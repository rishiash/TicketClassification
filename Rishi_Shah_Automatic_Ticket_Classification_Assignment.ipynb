{
 "cells": [
  {
   "cell_type": "markdown",
   "metadata": {
    "id": "rhR-ZUkwJrFn"
   },
   "source": [
    "## Problem Statement \n",
    "\n",
    "You need to build a model that is able to classify customer complaints based on the products/services. By doing so, you can segregate these tickets into their relevant categories and, therefore, help in the quick resolution of the issue.\n",
    "\n",
    "You will be doing topic modelling on the <b>.json</b> data provided by the company. Since this data is not labelled, you need to apply NMF to analyse patterns and classify tickets into the following five clusters based on their products/services:\n",
    "\n",
    "* Credit card / Prepaid card\n",
    "\n",
    "* Bank account services\n",
    "\n",
    "* Theft/Dispute reporting\n",
    "\n",
    "* Mortgages/loans\n",
    "\n",
    "* Others \n",
    "\n",
    "\n",
    "With the help of topic modelling, you will be able to map each ticket onto its respective department/category. You can then use this data to train any supervised model such as logistic regression, decision tree or random forest. Using this trained model, you can classify any new customer complaint support ticket into its relevant department."
   ]
  },
  {
   "cell_type": "markdown",
   "metadata": {
    "id": "mcgXVNyaLUFS"
   },
   "source": [
    "## Pipelines that needs to be performed:\n",
    "\n",
    "You need to perform the following eight major tasks to complete the assignment:\n",
    "\n",
    "1.  Data loading\n",
    "\n",
    "2. Text preprocessing\n",
    "\n",
    "3. Exploratory data analysis (EDA)\n",
    "\n",
    "4. Feature extraction\n",
    "\n",
    "5. Topic modelling \n",
    "\n",
    "6. Model building using supervised learning\n",
    "\n",
    "7. Model training and evaluation\n",
    "\n",
    "8. Model inference"
   ]
  },
  {
   "cell_type": "markdown",
   "metadata": {
    "id": "JuLFIymAL58u"
   },
   "source": [
    "## Importing the necessary libraries"
   ]
  },
  {
   "cell_type": "code",
   "execution_count": 1,
   "metadata": {
    "id": "O-Q9pqrcJrFr"
   },
   "outputs": [],
   "source": [
    "import json \n",
    "import numpy as np\n",
    "import pandas as pd\n",
    "import re, nltk, spacy, string\n",
    "import en_core_web_sm\n",
    "nlp = en_core_web_sm.load()\n",
    "import seaborn as sns\n",
    "import matplotlib.pyplot as plt\n",
    "%matplotlib inline\n",
    "\n",
    "import warnings\n",
    "warnings.filterwarnings(\"ignore\")\n",
    "\n",
    "from plotly.offline import plot\n",
    "import plotly.graph_objects as go\n",
    "import plotly.express as px\n",
    "\n",
    "from sklearn.feature_extraction.text import CountVectorizer, TfidfVectorizer\n",
    "from pprint import pprint\n",
    "\n",
    "from nltk.stem import WordNetLemmatizer\n",
    "from nltk.tokenize import word_tokenize\n",
    "from nltk.util import ngrams\n",
    "from tqdm import tqdm\n",
    "from wordcloud import WordCloud\n",
    "from sklearn.model_selection import train_test_split\n",
    "from sklearn.linear_model import LogisticRegression\n",
    "from sklearn import metrics\n",
    "from sklearn.tree import DecisionTreeClassifier\n",
    "from sklearn.ensemble import RandomForestClassifier\n",
    "from sklearn.decomposition import NMF"
   ]
  },
  {
   "cell_type": "markdown",
   "metadata": {
    "id": "KtRLCsNVJrFt"
   },
   "source": [
    "## Loading the data\n",
    "\n",
    "The data is in JSON format and we need to convert it to a dataframe."
   ]
  },
  {
   "cell_type": "code",
   "execution_count": 2,
   "metadata": {
    "id": "puVzIf_iJrFt"
   },
   "outputs": [
    {
     "data": {
      "text/html": [
       "<div>\n",
       "<style scoped>\n",
       "    .dataframe tbody tr th:only-of-type {\n",
       "        vertical-align: middle;\n",
       "    }\n",
       "\n",
       "    .dataframe tbody tr th {\n",
       "        vertical-align: top;\n",
       "    }\n",
       "\n",
       "    .dataframe thead th {\n",
       "        text-align: right;\n",
       "    }\n",
       "</style>\n",
       "<table border=\"1\" class=\"dataframe\">\n",
       "  <thead>\n",
       "    <tr style=\"text-align: right;\">\n",
       "      <th></th>\n",
       "      <th>_index</th>\n",
       "      <th>_type</th>\n",
       "      <th>_id</th>\n",
       "      <th>_score</th>\n",
       "      <th>_source.tags</th>\n",
       "      <th>_source.zip_code</th>\n",
       "      <th>_source.complaint_id</th>\n",
       "      <th>_source.issue</th>\n",
       "      <th>_source.date_received</th>\n",
       "      <th>_source.state</th>\n",
       "      <th>...</th>\n",
       "      <th>_source.company_response</th>\n",
       "      <th>_source.company</th>\n",
       "      <th>_source.submitted_via</th>\n",
       "      <th>_source.date_sent_to_company</th>\n",
       "      <th>_source.company_public_response</th>\n",
       "      <th>_source.sub_product</th>\n",
       "      <th>_source.timely</th>\n",
       "      <th>_source.complaint_what_happened</th>\n",
       "      <th>_source.sub_issue</th>\n",
       "      <th>_source.consumer_consent_provided</th>\n",
       "    </tr>\n",
       "  </thead>\n",
       "  <tbody>\n",
       "    <tr>\n",
       "      <th>0</th>\n",
       "      <td>complaint-public-v2</td>\n",
       "      <td>complaint</td>\n",
       "      <td>3211475</td>\n",
       "      <td>0.0</td>\n",
       "      <td>None</td>\n",
       "      <td>90301</td>\n",
       "      <td>3211475</td>\n",
       "      <td>Attempts to collect debt not owed</td>\n",
       "      <td>2019-04-13T12:00:00-05:00</td>\n",
       "      <td>CA</td>\n",
       "      <td>...</td>\n",
       "      <td>Closed with explanation</td>\n",
       "      <td>JPMORGAN CHASE &amp; CO.</td>\n",
       "      <td>Web</td>\n",
       "      <td>2019-04-13T12:00:00-05:00</td>\n",
       "      <td>None</td>\n",
       "      <td>Credit card debt</td>\n",
       "      <td>Yes</td>\n",
       "      <td></td>\n",
       "      <td>Debt is not yours</td>\n",
       "      <td>Consent not provided</td>\n",
       "    </tr>\n",
       "    <tr>\n",
       "      <th>1</th>\n",
       "      <td>complaint-public-v2</td>\n",
       "      <td>complaint</td>\n",
       "      <td>3229299</td>\n",
       "      <td>0.0</td>\n",
       "      <td>Servicemember</td>\n",
       "      <td>319XX</td>\n",
       "      <td>3229299</td>\n",
       "      <td>Written notification about debt</td>\n",
       "      <td>2019-05-01T12:00:00-05:00</td>\n",
       "      <td>GA</td>\n",
       "      <td>...</td>\n",
       "      <td>Closed with explanation</td>\n",
       "      <td>JPMORGAN CHASE &amp; CO.</td>\n",
       "      <td>Web</td>\n",
       "      <td>2019-05-01T12:00:00-05:00</td>\n",
       "      <td>None</td>\n",
       "      <td>Credit card debt</td>\n",
       "      <td>Yes</td>\n",
       "      <td>Good morning my name is XXXX XXXX and I apprec...</td>\n",
       "      <td>Didn't receive enough information to verify debt</td>\n",
       "      <td>Consent provided</td>\n",
       "    </tr>\n",
       "    <tr>\n",
       "      <th>2</th>\n",
       "      <td>complaint-public-v2</td>\n",
       "      <td>complaint</td>\n",
       "      <td>3199379</td>\n",
       "      <td>0.0</td>\n",
       "      <td>None</td>\n",
       "      <td>77069</td>\n",
       "      <td>3199379</td>\n",
       "      <td>Other features, terms, or problems</td>\n",
       "      <td>2019-04-02T12:00:00-05:00</td>\n",
       "      <td>TX</td>\n",
       "      <td>...</td>\n",
       "      <td>Closed with explanation</td>\n",
       "      <td>JPMORGAN CHASE &amp; CO.</td>\n",
       "      <td>Web</td>\n",
       "      <td>2019-04-02T12:00:00-05:00</td>\n",
       "      <td>None</td>\n",
       "      <td>General-purpose credit card or charge card</td>\n",
       "      <td>Yes</td>\n",
       "      <td>I upgraded my XXXX XXXX card in XX/XX/2018 and...</td>\n",
       "      <td>Problem with rewards from credit card</td>\n",
       "      <td>Consent provided</td>\n",
       "    </tr>\n",
       "    <tr>\n",
       "      <th>3</th>\n",
       "      <td>complaint-public-v2</td>\n",
       "      <td>complaint</td>\n",
       "      <td>2673060</td>\n",
       "      <td>0.0</td>\n",
       "      <td>None</td>\n",
       "      <td>48066</td>\n",
       "      <td>2673060</td>\n",
       "      <td>Trouble during payment process</td>\n",
       "      <td>2017-09-13T12:00:00-05:00</td>\n",
       "      <td>MI</td>\n",
       "      <td>...</td>\n",
       "      <td>Closed with explanation</td>\n",
       "      <td>JPMORGAN CHASE &amp; CO.</td>\n",
       "      <td>Web</td>\n",
       "      <td>2017-09-14T12:00:00-05:00</td>\n",
       "      <td>None</td>\n",
       "      <td>Conventional home mortgage</td>\n",
       "      <td>Yes</td>\n",
       "      <td></td>\n",
       "      <td>None</td>\n",
       "      <td>Consent not provided</td>\n",
       "    </tr>\n",
       "    <tr>\n",
       "      <th>4</th>\n",
       "      <td>complaint-public-v2</td>\n",
       "      <td>complaint</td>\n",
       "      <td>3203545</td>\n",
       "      <td>0.0</td>\n",
       "      <td>None</td>\n",
       "      <td>10473</td>\n",
       "      <td>3203545</td>\n",
       "      <td>Fees or interest</td>\n",
       "      <td>2019-04-05T12:00:00-05:00</td>\n",
       "      <td>NY</td>\n",
       "      <td>...</td>\n",
       "      <td>Closed with explanation</td>\n",
       "      <td>JPMORGAN CHASE &amp; CO.</td>\n",
       "      <td>Referral</td>\n",
       "      <td>2019-04-05T12:00:00-05:00</td>\n",
       "      <td>None</td>\n",
       "      <td>General-purpose credit card or charge card</td>\n",
       "      <td>Yes</td>\n",
       "      <td></td>\n",
       "      <td>Charged too much interest</td>\n",
       "      <td>N/A</td>\n",
       "    </tr>\n",
       "    <tr>\n",
       "      <th>...</th>\n",
       "      <td>...</td>\n",
       "      <td>...</td>\n",
       "      <td>...</td>\n",
       "      <td>...</td>\n",
       "      <td>...</td>\n",
       "      <td>...</td>\n",
       "      <td>...</td>\n",
       "      <td>...</td>\n",
       "      <td>...</td>\n",
       "      <td>...</td>\n",
       "      <td>...</td>\n",
       "      <td>...</td>\n",
       "      <td>...</td>\n",
       "      <td>...</td>\n",
       "      <td>...</td>\n",
       "      <td>...</td>\n",
       "      <td>...</td>\n",
       "      <td>...</td>\n",
       "      <td>...</td>\n",
       "      <td>...</td>\n",
       "      <td>...</td>\n",
       "    </tr>\n",
       "    <tr>\n",
       "      <th>78308</th>\n",
       "      <td>complaint-public-v2</td>\n",
       "      <td>complaint</td>\n",
       "      <td>3105617</td>\n",
       "      <td>0.0</td>\n",
       "      <td>None</td>\n",
       "      <td>08857</td>\n",
       "      <td>3105617</td>\n",
       "      <td>Closing an account</td>\n",
       "      <td>2018-12-20T12:00:00-05:00</td>\n",
       "      <td>NJ</td>\n",
       "      <td>...</td>\n",
       "      <td>Closed with explanation</td>\n",
       "      <td>JPMORGAN CHASE &amp; CO.</td>\n",
       "      <td>Web</td>\n",
       "      <td>2018-12-21T12:00:00-05:00</td>\n",
       "      <td>None</td>\n",
       "      <td>Checking account</td>\n",
       "      <td>Yes</td>\n",
       "      <td></td>\n",
       "      <td>Funds not received from closed account</td>\n",
       "      <td>Consent not provided</td>\n",
       "    </tr>\n",
       "    <tr>\n",
       "      <th>78309</th>\n",
       "      <td>complaint-public-v2</td>\n",
       "      <td>complaint</td>\n",
       "      <td>3091984</td>\n",
       "      <td>0.0</td>\n",
       "      <td>None</td>\n",
       "      <td>934XX</td>\n",
       "      <td>3091984</td>\n",
       "      <td>Other features, terms, or problems</td>\n",
       "      <td>2018-12-05T12:00:00-05:00</td>\n",
       "      <td>CA</td>\n",
       "      <td>...</td>\n",
       "      <td>Closed with monetary relief</td>\n",
       "      <td>JPMORGAN CHASE &amp; CO.</td>\n",
       "      <td>Web</td>\n",
       "      <td>2018-12-05T12:00:00-05:00</td>\n",
       "      <td>None</td>\n",
       "      <td>General-purpose credit card or charge card</td>\n",
       "      <td>Yes</td>\n",
       "      <td>On Wednesday, XX/XX/XXXX I called Chas, my XXX...</td>\n",
       "      <td>Other problem</td>\n",
       "      <td>Consent provided</td>\n",
       "    </tr>\n",
       "    <tr>\n",
       "      <th>78310</th>\n",
       "      <td>complaint-public-v2</td>\n",
       "      <td>complaint</td>\n",
       "      <td>3133355</td>\n",
       "      <td>0.0</td>\n",
       "      <td>None</td>\n",
       "      <td>923XX</td>\n",
       "      <td>3133355</td>\n",
       "      <td>Problem with a lender or other company chargin...</td>\n",
       "      <td>2019-01-25T12:00:00-05:00</td>\n",
       "      <td>CA</td>\n",
       "      <td>...</td>\n",
       "      <td>Closed with explanation</td>\n",
       "      <td>JPMORGAN CHASE &amp; CO.</td>\n",
       "      <td>Web</td>\n",
       "      <td>2019-01-25T12:00:00-05:00</td>\n",
       "      <td>None</td>\n",
       "      <td>Checking account</td>\n",
       "      <td>Yes</td>\n",
       "      <td>I am not familiar with XXXX pay and did not un...</td>\n",
       "      <td>Transaction was not authorized</td>\n",
       "      <td>Consent provided</td>\n",
       "    </tr>\n",
       "    <tr>\n",
       "      <th>78311</th>\n",
       "      <td>complaint-public-v2</td>\n",
       "      <td>complaint</td>\n",
       "      <td>3110963</td>\n",
       "      <td>0.0</td>\n",
       "      <td>None</td>\n",
       "      <td>None</td>\n",
       "      <td>3110963</td>\n",
       "      <td>Other features, terms, or problems</td>\n",
       "      <td>2018-12-27T12:00:00-05:00</td>\n",
       "      <td>PA</td>\n",
       "      <td>...</td>\n",
       "      <td>Closed with monetary relief</td>\n",
       "      <td>JPMORGAN CHASE &amp; CO.</td>\n",
       "      <td>Web</td>\n",
       "      <td>2018-12-27T12:00:00-05:00</td>\n",
       "      <td>None</td>\n",
       "      <td>General-purpose credit card or charge card</td>\n",
       "      <td>Yes</td>\n",
       "      <td>I have had flawless credit for 30 yrs. I've ha...</td>\n",
       "      <td>Problem with balance transfer</td>\n",
       "      <td>Consent provided</td>\n",
       "    </tr>\n",
       "    <tr>\n",
       "      <th>78312</th>\n",
       "      <td>complaint-public-v2</td>\n",
       "      <td>complaint</td>\n",
       "      <td>2001189</td>\n",
       "      <td>0.0</td>\n",
       "      <td>None</td>\n",
       "      <td>None</td>\n",
       "      <td>2001189</td>\n",
       "      <td>Payment to acct not credited</td>\n",
       "      <td>2016-07-06T12:00:00-05:00</td>\n",
       "      <td>MI</td>\n",
       "      <td>...</td>\n",
       "      <td>Closed with explanation</td>\n",
       "      <td>JPMORGAN CHASE &amp; CO.</td>\n",
       "      <td>Web</td>\n",
       "      <td>2016-07-07T12:00:00-05:00</td>\n",
       "      <td>None</td>\n",
       "      <td>None</td>\n",
       "      <td>Yes</td>\n",
       "      <td>Roughly 10+ years ago I closed out my accounts...</td>\n",
       "      <td>None</td>\n",
       "      <td>Consent provided</td>\n",
       "    </tr>\n",
       "  </tbody>\n",
       "</table>\n",
       "<p>78313 rows × 22 columns</p>\n",
       "</div>"
      ],
      "text/plain": [
       "                    _index      _type      _id  _score   _source.tags  \\\n",
       "0      complaint-public-v2  complaint  3211475     0.0           None   \n",
       "1      complaint-public-v2  complaint  3229299     0.0  Servicemember   \n",
       "2      complaint-public-v2  complaint  3199379     0.0           None   \n",
       "3      complaint-public-v2  complaint  2673060     0.0           None   \n",
       "4      complaint-public-v2  complaint  3203545     0.0           None   \n",
       "...                    ...        ...      ...     ...            ...   \n",
       "78308  complaint-public-v2  complaint  3105617     0.0           None   \n",
       "78309  complaint-public-v2  complaint  3091984     0.0           None   \n",
       "78310  complaint-public-v2  complaint  3133355     0.0           None   \n",
       "78311  complaint-public-v2  complaint  3110963     0.0           None   \n",
       "78312  complaint-public-v2  complaint  2001189     0.0           None   \n",
       "\n",
       "      _source.zip_code _source.complaint_id  \\\n",
       "0                90301              3211475   \n",
       "1                319XX              3229299   \n",
       "2                77069              3199379   \n",
       "3                48066              2673060   \n",
       "4                10473              3203545   \n",
       "...                ...                  ...   \n",
       "78308            08857              3105617   \n",
       "78309            934XX              3091984   \n",
       "78310            923XX              3133355   \n",
       "78311             None              3110963   \n",
       "78312             None              2001189   \n",
       "\n",
       "                                           _source.issue  \\\n",
       "0                      Attempts to collect debt not owed   \n",
       "1                        Written notification about debt   \n",
       "2                     Other features, terms, or problems   \n",
       "3                         Trouble during payment process   \n",
       "4                                       Fees or interest   \n",
       "...                                                  ...   \n",
       "78308                                 Closing an account   \n",
       "78309                 Other features, terms, or problems   \n",
       "78310  Problem with a lender or other company chargin...   \n",
       "78311                 Other features, terms, or problems   \n",
       "78312                       Payment to acct not credited   \n",
       "\n",
       "           _source.date_received _source.state  ...  \\\n",
       "0      2019-04-13T12:00:00-05:00            CA  ...   \n",
       "1      2019-05-01T12:00:00-05:00            GA  ...   \n",
       "2      2019-04-02T12:00:00-05:00            TX  ...   \n",
       "3      2017-09-13T12:00:00-05:00            MI  ...   \n",
       "4      2019-04-05T12:00:00-05:00            NY  ...   \n",
       "...                          ...           ...  ...   \n",
       "78308  2018-12-20T12:00:00-05:00            NJ  ...   \n",
       "78309  2018-12-05T12:00:00-05:00            CA  ...   \n",
       "78310  2019-01-25T12:00:00-05:00            CA  ...   \n",
       "78311  2018-12-27T12:00:00-05:00            PA  ...   \n",
       "78312  2016-07-06T12:00:00-05:00            MI  ...   \n",
       "\n",
       "          _source.company_response       _source.company  \\\n",
       "0          Closed with explanation  JPMORGAN CHASE & CO.   \n",
       "1          Closed with explanation  JPMORGAN CHASE & CO.   \n",
       "2          Closed with explanation  JPMORGAN CHASE & CO.   \n",
       "3          Closed with explanation  JPMORGAN CHASE & CO.   \n",
       "4          Closed with explanation  JPMORGAN CHASE & CO.   \n",
       "...                            ...                   ...   \n",
       "78308      Closed with explanation  JPMORGAN CHASE & CO.   \n",
       "78309  Closed with monetary relief  JPMORGAN CHASE & CO.   \n",
       "78310      Closed with explanation  JPMORGAN CHASE & CO.   \n",
       "78311  Closed with monetary relief  JPMORGAN CHASE & CO.   \n",
       "78312      Closed with explanation  JPMORGAN CHASE & CO.   \n",
       "\n",
       "      _source.submitted_via _source.date_sent_to_company  \\\n",
       "0                       Web    2019-04-13T12:00:00-05:00   \n",
       "1                       Web    2019-05-01T12:00:00-05:00   \n",
       "2                       Web    2019-04-02T12:00:00-05:00   \n",
       "3                       Web    2017-09-14T12:00:00-05:00   \n",
       "4                  Referral    2019-04-05T12:00:00-05:00   \n",
       "...                     ...                          ...   \n",
       "78308                   Web    2018-12-21T12:00:00-05:00   \n",
       "78309                   Web    2018-12-05T12:00:00-05:00   \n",
       "78310                   Web    2019-01-25T12:00:00-05:00   \n",
       "78311                   Web    2018-12-27T12:00:00-05:00   \n",
       "78312                   Web    2016-07-07T12:00:00-05:00   \n",
       "\n",
       "      _source.company_public_response  \\\n",
       "0                                None   \n",
       "1                                None   \n",
       "2                                None   \n",
       "3                                None   \n",
       "4                                None   \n",
       "...                               ...   \n",
       "78308                            None   \n",
       "78309                            None   \n",
       "78310                            None   \n",
       "78311                            None   \n",
       "78312                            None   \n",
       "\n",
       "                              _source.sub_product _source.timely  \\\n",
       "0                                Credit card debt            Yes   \n",
       "1                                Credit card debt            Yes   \n",
       "2      General-purpose credit card or charge card            Yes   \n",
       "3                      Conventional home mortgage            Yes   \n",
       "4      General-purpose credit card or charge card            Yes   \n",
       "...                                           ...            ...   \n",
       "78308                            Checking account            Yes   \n",
       "78309  General-purpose credit card or charge card            Yes   \n",
       "78310                            Checking account            Yes   \n",
       "78311  General-purpose credit card or charge card            Yes   \n",
       "78312                                        None            Yes   \n",
       "\n",
       "                         _source.complaint_what_happened  \\\n",
       "0                                                          \n",
       "1      Good morning my name is XXXX XXXX and I apprec...   \n",
       "2      I upgraded my XXXX XXXX card in XX/XX/2018 and...   \n",
       "3                                                          \n",
       "4                                                          \n",
       "...                                                  ...   \n",
       "78308                                                      \n",
       "78309  On Wednesday, XX/XX/XXXX I called Chas, my XXX...   \n",
       "78310  I am not familiar with XXXX pay and did not un...   \n",
       "78311  I have had flawless credit for 30 yrs. I've ha...   \n",
       "78312  Roughly 10+ years ago I closed out my accounts...   \n",
       "\n",
       "                                      _source.sub_issue  \\\n",
       "0                                     Debt is not yours   \n",
       "1      Didn't receive enough information to verify debt   \n",
       "2                 Problem with rewards from credit card   \n",
       "3                                                  None   \n",
       "4                             Charged too much interest   \n",
       "...                                                 ...   \n",
       "78308            Funds not received from closed account   \n",
       "78309                                     Other problem   \n",
       "78310                    Transaction was not authorized   \n",
       "78311                     Problem with balance transfer   \n",
       "78312                                              None   \n",
       "\n",
       "      _source.consumer_consent_provided  \n",
       "0                  Consent not provided  \n",
       "1                      Consent provided  \n",
       "2                      Consent provided  \n",
       "3                  Consent not provided  \n",
       "4                                   N/A  \n",
       "...                                 ...  \n",
       "78308              Consent not provided  \n",
       "78309                  Consent provided  \n",
       "78310                  Consent provided  \n",
       "78311                  Consent provided  \n",
       "78312                  Consent provided  \n",
       "\n",
       "[78313 rows x 22 columns]"
      ]
     },
     "execution_count": 2,
     "metadata": {},
     "output_type": "execute_result"
    }
   ],
   "source": [
    "# Opening JSON file \n",
    "f = open('complaints-2021-05-14_08_16.json')\n",
    "  \n",
    "# returns JSON object as  \n",
    "# a dictionary \n",
    "data = json.load(f)\n",
    "df=pd.json_normalize(data)\n",
    "df"
   ]
  },
  {
   "cell_type": "markdown",
   "metadata": {
    "id": "_xYpH-sAJrFu"
   },
   "source": [
    "## Data preparation"
   ]
  },
  {
   "cell_type": "code",
   "execution_count": 3,
   "metadata": {
    "id": "Lf8ufHH5JrFu"
   },
   "outputs": [
    {
     "name": "stdout",
     "output_type": "stream",
     "text": [
      "(78313, 22)\n"
     ]
    }
   ],
   "source": [
    "# Inspect the dataframe to understand the given data.\n",
    "print (df.shape)"
   ]
  },
  {
   "cell_type": "code",
   "execution_count": 4,
   "metadata": {
    "id": "Dwcty-wmJrFw"
   },
   "outputs": [
    {
     "name": "stdout",
     "output_type": "stream",
     "text": [
      "Index(['_index', '_type', '_id', '_score', '_source.tags', '_source.zip_code',\n",
      "       '_source.complaint_id', '_source.issue', '_source.date_received',\n",
      "       '_source.state', '_source.consumer_disputed', '_source.product',\n",
      "       '_source.company_response', '_source.company', '_source.submitted_via',\n",
      "       '_source.date_sent_to_company', '_source.company_public_response',\n",
      "       '_source.sub_product', '_source.timely',\n",
      "       '_source.complaint_what_happened', '_source.sub_issue',\n",
      "       '_source.consumer_consent_provided'],\n",
      "      dtype='object')\n"
     ]
    }
   ],
   "source": [
    "#print the column names\n",
    "print (df.columns)"
   ]
  },
  {
   "cell_type": "code",
   "execution_count": 5,
   "metadata": {},
   "outputs": [],
   "source": [
    "# _type = complaint for all\n",
    "# _score = 0.0 for all\n",
    "# _source_tags = None for majority\n",
    "# _source_consumer_disputed = 9523, rest are no or N/A\n",
    "# _source.company = JPMORGAN CHASE & CO. for all\n",
    "# _source.company_public_response = majority are blank\n",
    "# _source.timely = Yes for majority\n",
    "# _source.consumer_consent_provided = majority are N/A\n",
    "\n",
    "# Remove the above columns since they will not add any value\n",
    "df.drop(columns=['_type', '_score', '_source.tags', '_source.consumer_disputed', '_source.company', '_source.company_public_response', '_source.timely', '_source.consumer_consent_provided'], axis=1, inplace=True)\n",
    "\n",
    "#print (df['_source.product'].value_counts()\n",
    "#print (df['_source.issue'].value_counts())\n",
    "#print (df['_source.company_response'].value_counts())\n",
    "#print (df['_source.submitted_via'].value_counts())\n",
    "#print (df['_source.sub_product'].value_counts())\n",
    "#print (df['_source.complaint_what_happened'].value_counts())\n",
    "#print (df['_source.consumer_consent_provided'].value_counts())\n"
   ]
  },
  {
   "cell_type": "code",
   "execution_count": 6,
   "metadata": {
    "id": "grQUPFL5JrFx"
   },
   "outputs": [],
   "source": [
    "#Assign nan in place of blanks in the complaints column\n",
    "df['_source.complaint_what_happened'] = df['_source.complaint_what_happened'].replace('','NaN')\n"
   ]
  },
  {
   "cell_type": "code",
   "execution_count": 7,
   "metadata": {
    "id": "Jfxd8VSmJrFy"
   },
   "outputs": [
    {
     "data": {
      "text/plain": [
       "(21072, 14)"
      ]
     },
     "execution_count": 7,
     "metadata": {},
     "output_type": "execute_result"
    }
   ],
   "source": [
    "#Remove all rows where complaints column is nan\n",
    "df = df.drop(df[df['_source.complaint_what_happened'] == 'NaN'].index)\n",
    "df.shape"
   ]
  },
  {
   "cell_type": "code",
   "execution_count": 8,
   "metadata": {
    "id": "FYCtKXD1JrFw"
   },
   "outputs": [
    {
     "name": "stdout",
     "output_type": "stream",
     "text": [
      "Index(['index', 'id', 'zip_code', 'complaint_id', 'issue', 'date_received',\n",
      "       'state', 'product', 'company_response', '_source.submitted_via',\n",
      "       'date_sent_to_company', 'sub_product', 'complaint', 'sub_issue'],\n",
      "      dtype='object')\n"
     ]
    }
   ],
   "source": [
    "#Assign new column names\n",
    "\n",
    "df.rename(columns = {'_index':'index', '_id':'id', '_source.zip_code':'zip_code', '_source.complaint_id': 'complaint_id',\n",
    "                     '_source.issue': 'issue', '_source.date_received': 'date_received', '_source.state': 'state',\n",
    "                     '_source.product': 'product', '_source.company_response': 'company_response',\n",
    "                     'source.submitted_via' : 'submitted_via', '_source.date_sent_to_company' : 'date_sent_to_company',\n",
    "                     '_source.sub_product' : 'sub_product',  '_source.complaint_what_happened' : 'complaint',\n",
    "                     '_source.sub_issue' : 'sub_issue'}, inplace = True)\n",
    "print (df.columns)"
   ]
  },
  {
   "cell_type": "markdown",
   "metadata": {
    "id": "L944HZpsJrFy"
   },
   "source": [
    "## Prepare the text for topic modeling\n",
    "\n",
    "Once you have removed all the blank complaints, you need to:\n",
    "\n",
    "* Make the text lowercase\n",
    "* Remove text in square brackets\n",
    "* Remove punctuation\n",
    "* Remove words containing numbers\n",
    "\n",
    "\n",
    "Once you have done these cleaning operations you need to perform the following:\n",
    "* Lemmatize the texts\n",
    "* Extract the POS tags of the lemmatized text and remove all the words which have tags other than NN[tag == \"NN\"].\n"
   ]
  },
  {
   "cell_type": "code",
   "execution_count": 9,
   "metadata": {
    "id": "qm7SjjSkJrFz"
   },
   "outputs": [
    {
     "data": {
      "text/plain": [
       "1        good morning my name is and i appreciate it if...\n",
       "2        i upgraded my card in and was told by the agen...\n",
       "10       chase card was reported on however fraudulent ...\n",
       "11       on while trying to book a ticket i came across...\n",
       "14       my grand son give me check for i deposit it in...\n",
       "                               ...                        \n",
       "78303    after being a chase card customer for well ove...\n",
       "78309    on wednesday i called chas my visa credit card...\n",
       "78310    i am not familiar with pay and did not underst...\n",
       "78311    i have had flawless credit for yrs ive had cha...\n",
       "78312    roughly years ago i closed out my accounts wit...\n",
       "Name: complaint, Length: 21072, dtype: object"
      ]
     },
     "execution_count": 9,
     "metadata": {},
     "output_type": "execute_result"
    }
   ],
   "source": [
    "# Write your function here to clean the text and remove all the unnecessary elements.\n",
    "\n",
    "# Make the text lower case\n",
    "df['complaint'] = df['complaint'].map(lambda x: x.lower())\n",
    "\n",
    "# Remove the text in brackets\n",
    "df['complaint'] = df['complaint'].map(lambda x: re.sub(\"\\{.*\\}\", \"\", x))\n",
    "\n",
    "# Remove the text in square brackets\n",
    "df['complaint'] = df['complaint'].map(lambda x: re.sub(\"[.*]\", \"\", x))\n",
    "\n",
    "# Remove the text in round brackets\n",
    "df['complaint'] = df['complaint'].map(lambda x: re.sub(\"\\(.*\\)\", \"\", x))\n",
    "\n",
    "# Remove the punctuation\n",
    "df['complaint'] = df['complaint'].map(lambda x: re.sub(r\"[^\\w\\s]\", \"\", x))\n",
    "\n",
    "# Remove the XXXX\n",
    "df['complaint'] = df['complaint'].map(lambda x: re.sub(\"xxxx\", \"\", x))\n",
    "\n",
    "# Remove the numbers\n",
    "df['complaint'] = df['complaint'].map(lambda x: re.sub(\"\\d+\", \"\", x))\n",
    "\n",
    "# Remove the spaces\n",
    "df['complaint'] = df['complaint'].map(lambda x: re.sub(\"\\s{2,}\", \" \", x))\n",
    "\n",
    "df['complaint']"
   ]
  },
  {
   "cell_type": "code",
   "execution_count": 10,
   "metadata": {
    "id": "zgOu8t8HJrFz"
   },
   "outputs": [],
   "source": [
    "#Write your function to Lemmatize the texts\n",
    "wordnet_lemmatizer = WordNetLemmatizer()\n",
    "\n",
    "def lemmatize(string):\n",
    "    words = word_tokenize(string)\n",
    "    words_after_lemmatizer = [wordnet_lemmatizer.lemmatize(word) for word in words]\n",
    "    return (' '.join(words_after_lemmatizer)) "
   ]
  },
  {
   "cell_type": "code",
   "execution_count": 11,
   "metadata": {
    "id": "uXnN7aa_JrF0"
   },
   "outputs": [],
   "source": [
    "#Create a dataframe('df_clean') that will have only the complaints and the lemmatized complaints \n",
    "df['lemme_complaint'] = df['complaint'].map (lambda x: lemmatize(str(x)))\n",
    "df_clean = df[['complaint', 'lemme_complaint']]"
   ]
  },
  {
   "cell_type": "code",
   "execution_count": 12,
   "metadata": {
    "id": "nOiDVvEIJrF0"
   },
   "outputs": [
    {
     "data": {
      "text/html": [
       "<div>\n",
       "<style scoped>\n",
       "    .dataframe tbody tr th:only-of-type {\n",
       "        vertical-align: middle;\n",
       "    }\n",
       "\n",
       "    .dataframe tbody tr th {\n",
       "        vertical-align: top;\n",
       "    }\n",
       "\n",
       "    .dataframe thead th {\n",
       "        text-align: right;\n",
       "    }\n",
       "</style>\n",
       "<table border=\"1\" class=\"dataframe\">\n",
       "  <thead>\n",
       "    <tr style=\"text-align: right;\">\n",
       "      <th></th>\n",
       "      <th>complaint</th>\n",
       "      <th>lemme_complaint</th>\n",
       "    </tr>\n",
       "  </thead>\n",
       "  <tbody>\n",
       "    <tr>\n",
       "      <th>1</th>\n",
       "      <td>good morning my name is and i appreciate it if...</td>\n",
       "      <td>good morning my name is and i appreciate it if...</td>\n",
       "    </tr>\n",
       "    <tr>\n",
       "      <th>2</th>\n",
       "      <td>i upgraded my card in and was told by the agen...</td>\n",
       "      <td>i upgraded my card in and wa told by the agent...</td>\n",
       "    </tr>\n",
       "    <tr>\n",
       "      <th>10</th>\n",
       "      <td>chase card was reported on however fraudulent ...</td>\n",
       "      <td>chase card wa reported on however fraudulent a...</td>\n",
       "    </tr>\n",
       "    <tr>\n",
       "      <th>11</th>\n",
       "      <td>on while trying to book a ticket i came across...</td>\n",
       "      <td>on while trying to book a ticket i came across...</td>\n",
       "    </tr>\n",
       "    <tr>\n",
       "      <th>14</th>\n",
       "      <td>my grand son give me check for i deposit it in...</td>\n",
       "      <td>my grand son give me check for i deposit it in...</td>\n",
       "    </tr>\n",
       "    <tr>\n",
       "      <th>...</th>\n",
       "      <td>...</td>\n",
       "      <td>...</td>\n",
       "    </tr>\n",
       "    <tr>\n",
       "      <th>78303</th>\n",
       "      <td>after being a chase card customer for well ove...</td>\n",
       "      <td>after being a chase card customer for well ove...</td>\n",
       "    </tr>\n",
       "    <tr>\n",
       "      <th>78309</th>\n",
       "      <td>on wednesday i called chas my visa credit card...</td>\n",
       "      <td>on wednesday i called chas my visa credit card...</td>\n",
       "    </tr>\n",
       "    <tr>\n",
       "      <th>78310</th>\n",
       "      <td>i am not familiar with pay and did not underst...</td>\n",
       "      <td>i am not familiar with pay and did not underst...</td>\n",
       "    </tr>\n",
       "    <tr>\n",
       "      <th>78311</th>\n",
       "      <td>i have had flawless credit for yrs ive had cha...</td>\n",
       "      <td>i have had flawless credit for yr ive had chas...</td>\n",
       "    </tr>\n",
       "    <tr>\n",
       "      <th>78312</th>\n",
       "      <td>roughly years ago i closed out my accounts wit...</td>\n",
       "      <td>roughly year ago i closed out my account with ...</td>\n",
       "    </tr>\n",
       "  </tbody>\n",
       "</table>\n",
       "<p>21072 rows × 2 columns</p>\n",
       "</div>"
      ],
      "text/plain": [
       "                                               complaint  \\\n",
       "1      good morning my name is and i appreciate it if...   \n",
       "2      i upgraded my card in and was told by the agen...   \n",
       "10     chase card was reported on however fraudulent ...   \n",
       "11     on while trying to book a ticket i came across...   \n",
       "14     my grand son give me check for i deposit it in...   \n",
       "...                                                  ...   \n",
       "78303  after being a chase card customer for well ove...   \n",
       "78309  on wednesday i called chas my visa credit card...   \n",
       "78310  i am not familiar with pay and did not underst...   \n",
       "78311  i have had flawless credit for yrs ive had cha...   \n",
       "78312  roughly years ago i closed out my accounts wit...   \n",
       "\n",
       "                                         lemme_complaint  \n",
       "1      good morning my name is and i appreciate it if...  \n",
       "2      i upgraded my card in and wa told by the agent...  \n",
       "10     chase card wa reported on however fraudulent a...  \n",
       "11     on while trying to book a ticket i came across...  \n",
       "14     my grand son give me check for i deposit it in...  \n",
       "...                                                  ...  \n",
       "78303  after being a chase card customer for well ove...  \n",
       "78309  on wednesday i called chas my visa credit card...  \n",
       "78310  i am not familiar with pay and did not underst...  \n",
       "78311  i have had flawless credit for yr ive had chas...  \n",
       "78312  roughly year ago i closed out my account with ...  \n",
       "\n",
       "[21072 rows x 2 columns]"
      ]
     },
     "execution_count": 12,
     "metadata": {},
     "output_type": "execute_result"
    }
   ],
   "source": [
    "df_clean"
   ]
  },
  {
   "cell_type": "code",
   "execution_count": 13,
   "metadata": {
    "id": "Kk7fc4DuJrF1"
   },
   "outputs": [],
   "source": [
    "#Write your function to extract the POS tags \n",
    "\n",
    "def pos_tag(sent):\n",
    "    token_list = []\n",
    "    doc = nlp(sent)\n",
    "    for token in doc:\n",
    "        if ((token.tag_ == 'NN')):\n",
    "            token_list.append(str(token))\n",
    "    \n",
    "    return (' '.join(token_list)) \n"
   ]
  },
  {
   "cell_type": "code",
   "execution_count": 14,
   "metadata": {},
   "outputs": [
    {
     "name": "stdout",
     "output_type": "stream",
     "text": [
      "Starting...\n",
      "Completed = 1000\n",
      "Completed = 2000\n",
      "Completed = 3000\n",
      "Completed = 4000\n",
      "Completed = 5000\n",
      "Completed = 6000\n",
      "Completed = 7000\n",
      "Completed = 8000\n",
      "Completed = 9000\n",
      "Completed = 10000\n",
      "Completed = 11000\n",
      "Completed = 12000\n",
      "Completed = 13000\n",
      "Completed = 14000\n",
      "Completed = 15000\n",
      "Completed = 16000\n",
      "Completed = 17000\n",
      "Completed = 18000\n",
      "Completed = 19000\n",
      "Completed = 20000\n",
      "Completed = 21000\n"
     ]
    }
   ],
   "source": [
    "df_clean['complaint_POS_removed'] = np.nan\n",
    "count = 0\n",
    "print (\"Starting...\")\n",
    "for i in df_clean.index:\n",
    "    df_clean['complaint_POS_removed'][i] = pos_tag(str(df_clean['lemme_complaint'][i]))\n",
    "    count += 1\n",
    "    if ((count % 1000) == 0):\n",
    "        print (\"Completed = \" + str(count))\n",
    "    "
   ]
  },
  {
   "cell_type": "code",
   "execution_count": 15,
   "metadata": {
    "id": "AjxfchvFJrF2"
   },
   "outputs": [
    {
     "data": {
      "text/html": [
       "<div>\n",
       "<style scoped>\n",
       "    .dataframe tbody tr th:only-of-type {\n",
       "        vertical-align: middle;\n",
       "    }\n",
       "\n",
       "    .dataframe tbody tr th {\n",
       "        vertical-align: top;\n",
       "    }\n",
       "\n",
       "    .dataframe thead th {\n",
       "        text-align: right;\n",
       "    }\n",
       "</style>\n",
       "<table border=\"1\" class=\"dataframe\">\n",
       "  <thead>\n",
       "    <tr style=\"text-align: right;\">\n",
       "      <th></th>\n",
       "      <th>complaint</th>\n",
       "      <th>lemme_complaint</th>\n",
       "      <th>complaint_POS_removed</th>\n",
       "    </tr>\n",
       "  </thead>\n",
       "  <tbody>\n",
       "    <tr>\n",
       "      <th>1</th>\n",
       "      <td>good morning my name is and i appreciate it if...</td>\n",
       "      <td>good morning my name is and i appreciate it if...</td>\n",
       "      <td>morning name stop bank service debt verificati...</td>\n",
       "    </tr>\n",
       "    <tr>\n",
       "      <th>2</th>\n",
       "      <td>i upgraded my card in and was told by the agen...</td>\n",
       "      <td>i upgraded my card in and wa told by the agent...</td>\n",
       "      <td>card agent anniversary date agent information ...</td>\n",
       "    </tr>\n",
       "    <tr>\n",
       "      <th>10</th>\n",
       "      <td>chase card was reported on however fraudulent ...</td>\n",
       "      <td>chase card wa reported on however fraudulent a...</td>\n",
       "      <td>card application identity consent service cred...</td>\n",
       "    </tr>\n",
       "    <tr>\n",
       "      <th>11</th>\n",
       "      <td>on while trying to book a ticket i came across...</td>\n",
       "      <td>on while trying to book a ticket i came across...</td>\n",
       "      <td>ticket offer ticket reward card information of...</td>\n",
       "    </tr>\n",
       "    <tr>\n",
       "      <th>14</th>\n",
       "      <td>my grand son give me check for i deposit it in...</td>\n",
       "      <td>my grand son give me check for i deposit it in...</td>\n",
       "      <td>son chase account fund chase bank account mone...</td>\n",
       "    </tr>\n",
       "    <tr>\n",
       "      <th>...</th>\n",
       "      <td>...</td>\n",
       "      <td>...</td>\n",
       "      <td>...</td>\n",
       "    </tr>\n",
       "    <tr>\n",
       "      <th>78303</th>\n",
       "      <td>after being a chase card customer for well ove...</td>\n",
       "      <td>after being a chase card customer for well ove...</td>\n",
       "      <td>chase card customer decade solicitation credit...</td>\n",
       "    </tr>\n",
       "    <tr>\n",
       "      <th>78309</th>\n",
       "      <td>on wednesday i called chas my visa credit card...</td>\n",
       "      <td>on wednesday i called chas my visa credit card...</td>\n",
       "      <td>visa credit card provider claim purchase prote...</td>\n",
       "    </tr>\n",
       "    <tr>\n",
       "      <th>78310</th>\n",
       "      <td>i am not familiar with pay and did not underst...</td>\n",
       "      <td>i am not familiar with pay and did not underst...</td>\n",
       "      <td>pay risk consumer chase bank app chase year ba...</td>\n",
       "    </tr>\n",
       "    <tr>\n",
       "      <th>78311</th>\n",
       "      <td>i have had flawless credit for yrs ive had cha...</td>\n",
       "      <td>i have had flawless credit for yr ive had chas...</td>\n",
       "      <td>credit chase credit card chase freedom problem...</td>\n",
       "    </tr>\n",
       "    <tr>\n",
       "      <th>78312</th>\n",
       "      <td>roughly years ago i closed out my accounts wit...</td>\n",
       "      <td>roughly year ago i closed out my account with ...</td>\n",
       "      <td>year account order line credit account dollar ...</td>\n",
       "    </tr>\n",
       "  </tbody>\n",
       "</table>\n",
       "<p>21072 rows × 3 columns</p>\n",
       "</div>"
      ],
      "text/plain": [
       "                                               complaint  \\\n",
       "1      good morning my name is and i appreciate it if...   \n",
       "2      i upgraded my card in and was told by the agen...   \n",
       "10     chase card was reported on however fraudulent ...   \n",
       "11     on while trying to book a ticket i came across...   \n",
       "14     my grand son give me check for i deposit it in...   \n",
       "...                                                  ...   \n",
       "78303  after being a chase card customer for well ove...   \n",
       "78309  on wednesday i called chas my visa credit card...   \n",
       "78310  i am not familiar with pay and did not underst...   \n",
       "78311  i have had flawless credit for yrs ive had cha...   \n",
       "78312  roughly years ago i closed out my accounts wit...   \n",
       "\n",
       "                                         lemme_complaint  \\\n",
       "1      good morning my name is and i appreciate it if...   \n",
       "2      i upgraded my card in and wa told by the agent...   \n",
       "10     chase card wa reported on however fraudulent a...   \n",
       "11     on while trying to book a ticket i came across...   \n",
       "14     my grand son give me check for i deposit it in...   \n",
       "...                                                  ...   \n",
       "78303  after being a chase card customer for well ove...   \n",
       "78309  on wednesday i called chas my visa credit card...   \n",
       "78310  i am not familiar with pay and did not underst...   \n",
       "78311  i have had flawless credit for yr ive had chas...   \n",
       "78312  roughly year ago i closed out my account with ...   \n",
       "\n",
       "                                   complaint_POS_removed  \n",
       "1      morning name stop bank service debt verificati...  \n",
       "2      card agent anniversary date agent information ...  \n",
       "10     card application identity consent service cred...  \n",
       "11     ticket offer ticket reward card information of...  \n",
       "14     son chase account fund chase bank account mone...  \n",
       "...                                                  ...  \n",
       "78303  chase card customer decade solicitation credit...  \n",
       "78309  visa credit card provider claim purchase prote...  \n",
       "78310  pay risk consumer chase bank app chase year ba...  \n",
       "78311  credit chase credit card chase freedom problem...  \n",
       "78312  year account order line credit account dollar ...  \n",
       "\n",
       "[21072 rows x 3 columns]"
      ]
     },
     "execution_count": 15,
     "metadata": {},
     "output_type": "execute_result"
    }
   ],
   "source": [
    "#The clean dataframe should now contain the raw complaint, lemmatized complaint and the complaint after removing POS tags.\n",
    "df_clean"
   ]
  },
  {
   "cell_type": "markdown",
   "metadata": {
    "id": "_7Un1AElJrF2"
   },
   "source": [
    "## Exploratory data analysis to get familiar with the data.\n",
    "\n",
    "Write the code in this task to perform the following:\n",
    "\n",
    "*   Visualise the data according to the 'Complaint' character length\n",
    "*   Using a word cloud find the top 40 words by frequency among all the articles after processing the text\n",
    "*   Find the top unigrams,bigrams and trigrams by frequency among all the complaints after processing the text. ‘\n",
    "\n",
    "\n"
   ]
  },
  {
   "cell_type": "code",
   "execution_count": 16,
   "metadata": {
    "id": "q-zaqJF6JrF2"
   },
   "outputs": [
    {
     "name": "stdout",
     "output_type": "stream",
     "text": [
      "1096     27456\n",
      "3612     20571\n",
      "48112    18017\n",
      "6262     16873\n",
      "14476    16769\n",
      "43727    15366\n",
      "18058    15181\n",
      "316      14886\n",
      "57396    14831\n",
      "28689    13431\n",
      "26169    13384\n",
      "18455    13378\n",
      "33413    12813\n",
      "3788     12508\n",
      "25650    12442\n",
      "57680    12419\n",
      "1614     11887\n",
      "28112    11811\n",
      "33207    11693\n",
      "11683    11641\n",
      "Name: complaint_length, dtype: int64\n"
     ]
    },
    {
     "data": {
      "image/png": "[encoded data removed]",
      "text/plain": [
       "<Figure size 640x480 with 1 Axes>"
      ]
     },
     "metadata": {},
     "output_type": "display_data"
    }
   ],
   "source": [
    "# Write your code here to visualise the data according to the 'Complaint' character length\n",
    "df['complaint_length'] = df['complaint'].map(lambda x: len(x))\n",
    "\n",
    "print (df['complaint_length'].sort_values(ascending=False).head(20))\n",
    "\n",
    "sns.histplot(df['complaint_length'])\n",
    "plt.show()"
   ]
  },
  {
   "cell_type": "markdown",
   "metadata": {
    "id": "T9jD_6SeJrF3"
   },
   "source": [
    "#### Find the top 40 words by frequency among all the articles after processing the text."
   ]
  },
  {
   "cell_type": "code",
   "execution_count": 17,
   "metadata": {},
   "outputs": [],
   "source": [
    "# Merge all the sentences\n",
    "all_sent = \"\"\n",
    "for i in df_clean.index:\n",
    "    all_sent += df_clean['complaint_POS_removed'][i] + \" \""
   ]
  },
  {
   "cell_type": "code",
   "execution_count": 18,
   "metadata": {
    "id": "QcfdvtfZJrF3"
   },
   "outputs": [
    {
     "data": {
      "image/png": "[encoded data removed]",
      "text/plain": [
       "<Figure size 500x500 with 1 Axes>"
      ]
     },
     "metadata": {},
     "output_type": "display_data"
    }
   ],
   "source": [
    "#Using a word cloud find the top 40 words by frequency among all the articles after processing the text\n",
    "\n",
    "wordcloud = WordCloud(width = 800, height = 800,\n",
    "                background_color ='white',\n",
    "                max_words = 40,\n",
    "                min_font_size = 10,\n",
    "                max_font_size = 80).generate(all_sent)\n",
    " \n",
    "# plot the WordCloud image                       \n",
    "plt.figure(figsize = (5, 5), facecolor = None)\n",
    "plt.imshow(wordcloud)\n",
    "plt.axis(\"off\")\n",
    "plt.tight_layout(pad = 1)\n",
    " \n",
    "plt.show()"
   ]
  },
  {
   "cell_type": "code",
   "execution_count": 19,
   "metadata": {
    "id": "OkSmc3UaJrF4"
   },
   "outputs": [],
   "source": [
    "#Removing -PRON- from the text corpus\n",
    "df_clean['Complaint_clean'] = df_clean['complaint_POS_removed'].str.replace('-PRON-', '')"
   ]
  },
  {
   "cell_type": "markdown",
   "metadata": {
    "id": "5DfCSbbmJrF4"
   },
   "source": [
    "#### Find the top unigrams,bigrams and trigrams by frequency among all the complaints after processing the text."
   ]
  },
  {
   "cell_type": "code",
   "execution_count": 20,
   "metadata": {
    "id": "5mbk5DS5JrF4"
   },
   "outputs": [
    {
     "name": "stdout",
     "output_type": "stream",
     "text": [
      "[(('chase',), 45671), (('account',), 39156), (('credit',), 28181), (('card',), 25452), (('bank',), 18247), (('payment',), 17118), (('time',), 13491), (('day',), 10554), (('money',), 9983), (('charge',), 9505), (('loan',), 9170), (('information',), 8281), (('letter',), 8130), (('check',), 8057), (('year',), 7146), (('number',), 7110), (('mortgage',), 7060), (('customer',), 7010), (('month',), 6838), (('transaction',), 6700), (('fee',), 6698), (('company',), 6569), (('service',), 6328), (('report',), 6219), (('phone',), 6213), (('amount',), 6205), (('fraud',), 5847), (('balance',), 5697), (('fund',), 5627), (('call',), 5591)]\n"
     ]
    }
   ],
   "source": [
    "#Write your code here to find the top 30 unigram frequency among the complaints in the cleaned datafram(df_clean). \n",
    "token = nltk.word_tokenize(all_sent)\n",
    "\n",
    "unigrams = ngrams(token,1)\n",
    "uni_dist = nltk.FreqDist(unigrams)\n",
    "\n",
    "print (uni_dist.most_common(30))\n"
   ]
  },
  {
   "cell_type": "code",
   "execution_count": 21,
   "metadata": {
    "id": "YX7fedm1JrF8"
   },
   "outputs": [
    {
     "name": "stdout",
     "output_type": "stream",
     "text": [
      "[(('chase',), 45671), (('account',), 39156), (('credit',), 28181), (('card',), 25452), (('bank',), 18247), (('payment',), 17118), (('time',), 13491), (('day',), 10554), (('money',), 9983), (('charge',), 9505)]\n"
     ]
    }
   ],
   "source": [
    "#Print the top 10 words in the unigram frequency\n",
    "print (uni_dist.most_common(10))\n"
   ]
  },
  {
   "cell_type": "code",
   "execution_count": 22,
   "metadata": {
    "id": "aV7kD7w8JrF8"
   },
   "outputs": [
    {
     "name": "stdout",
     "output_type": "stream",
     "text": [
      "[(('credit', 'card'), 11155), (('credit', 'report'), 3580), (('account', 'chase'), 2820), (('chase', 'credit'), 2649), (('customer', 'service'), 2560), (('chase', 'account'), 2527), (('account', 'account'), 2252), (('bank', 'account'), 2177), (('chase', 'bank'), 1882), (('chase', 'card'), 1657), (('debit', 'card'), 1631), (('card', 'chase'), 1614), (('checking', 'account'), 1588), (('card', 'account'), 1583), (('credit', 'score'), 1520), (('account', 'credit'), 1492), (('phone', 'call'), 1368), (('money', 'account'), 1230), (('payment', 'payment'), 1179), (('account', 'bank'), 1149), (('interest', 'rate'), 1107), (('credit', 'bureau'), 1103), (('chase', 'chase'), 1069), (('letter', 'chase'), 1040), (('account', 'number'), 1032), (('business', 'day'), 1003), (('phone', 'number'), 1002), (('card', 'company'), 992), (('card', 'credit'), 990), (('card', 'card'), 956)]\n"
     ]
    }
   ],
   "source": [
    "#Write your code here to find the top 30 bigram frequency among the complaints in the cleaned datafram(df_clean). \n",
    "bigrams = ngrams(token,2)\n",
    "bi_dist = nltk.FreqDist(bigrams)\n",
    "\n",
    "print (bi_dist.most_common(30))"
   ]
  },
  {
   "cell_type": "code",
   "execution_count": 23,
   "metadata": {
    "id": "NPnMNIpyJrF9"
   },
   "outputs": [
    {
     "name": "stdout",
     "output_type": "stream",
     "text": [
      "[(('credit', 'card'), 11155), (('credit', 'report'), 3580), (('account', 'chase'), 2820), (('chase', 'credit'), 2649), (('customer', 'service'), 2560), (('chase', 'account'), 2527), (('account', 'account'), 2252), (('bank', 'account'), 2177), (('chase', 'bank'), 1882), (('chase', 'card'), 1657)]\n"
     ]
    }
   ],
   "source": [
    "#Print the top 10 words in the bigram frequency\n",
    "print (bi_dist.most_common(10))"
   ]
  },
  {
   "cell_type": "code",
   "execution_count": 24,
   "metadata": {
    "id": "Xkh7vtbtJrF-"
   },
   "outputs": [
    {
     "name": "stdout",
     "output_type": "stream",
     "text": [
      "[(('chase', 'credit', 'card'), 1770), (('credit', 'card', 'account'), 1010), (('credit', 'card', 'company'), 849), (('credit', 'card', 'chase'), 716), (('inquiry', 'credit', 'report'), 542), (('credit', 'card', 'credit'), 504), (('account', 'credit', 'card'), 452), (('card', 'credit', 'card'), 402), (('credit', 'report', 'credit'), 378), (('credit', 'reporting', 'agency'), 349), (('account', 'credit', 'report'), 339), (('charge', 'credit', 'card'), 317), (('chase', 'checking', 'account'), 314), (('account', 'chase', 'account'), 288), (('customer', 'service', 'representative'), 285), (('chase', 'bank', 'account'), 283), (('bank', 'credit', 'card'), 270), (('credit', 'card', 'payment'), 264), (('victim', 'identity', 'theft'), 238), (('credit', 'report', 'chase'), 233), (('chase', 'auto', 'finance'), 232), (('credit', 'card', 'card'), 230), (('chase', 'card', 'service'), 230), (('credit', 'reporting', 'act'), 229), (('payment', 'credit', 'card'), 221), (('credit', 'card', 'charge'), 216), (('credit', 'card', 'balance'), 213), (('credit', 'card', 'bank'), 211), (('freedom', 'credit', 'card'), 206), (('credit', 'card', 'service'), 203)]\n"
     ]
    }
   ],
   "source": [
    "#Write your code here to find the top 30 trigram frequency among the complaints in the cleaned datafram(df_clean). \n",
    "trigrams = ngrams(token,3)\n",
    "tri_dist = nltk.FreqDist(trigrams)\n",
    "\n",
    "print (tri_dist.most_common(30))"
   ]
  },
  {
   "cell_type": "code",
   "execution_count": 25,
   "metadata": {
    "id": "REcVxNfvJrF-"
   },
   "outputs": [
    {
     "name": "stdout",
     "output_type": "stream",
     "text": [
      "[(('chase', 'credit', 'card'), 1770), (('credit', 'card', 'account'), 1010), (('credit', 'card', 'company'), 849), (('credit', 'card', 'chase'), 716), (('inquiry', 'credit', 'report'), 542), (('credit', 'card', 'credit'), 504), (('account', 'credit', 'card'), 452), (('card', 'credit', 'card'), 402), (('credit', 'report', 'credit'), 378), (('credit', 'reporting', 'agency'), 349)]\n"
     ]
    }
   ],
   "source": [
    "#Print the top 10 words in the trigram frequency\n",
    "print (tri_dist.most_common(10))"
   ]
  },
  {
   "cell_type": "markdown",
   "metadata": {
    "id": "yUXzFji0JrF_"
   },
   "source": [
    "## The personal details of customer has been masked in the dataset with xxxx. Let's remove the masked text as this will be of no use for our analysis"
   ]
  },
  {
   "cell_type": "code",
   "execution_count": 26,
   "metadata": {
    "id": "wKda-a_IJrF_"
   },
   "outputs": [],
   "source": [
    "df_clean['Complaint_clean'] = df_clean['Complaint_clean'].str.replace('xxxx','')"
   ]
  },
  {
   "cell_type": "code",
   "execution_count": 27,
   "metadata": {
    "id": "9UIFk8fQJrF_"
   },
   "outputs": [
    {
     "data": {
      "text/html": [
       "<div>\n",
       "<style scoped>\n",
       "    .dataframe tbody tr th:only-of-type {\n",
       "        vertical-align: middle;\n",
       "    }\n",
       "\n",
       "    .dataframe tbody tr th {\n",
       "        vertical-align: top;\n",
       "    }\n",
       "\n",
       "    .dataframe thead th {\n",
       "        text-align: right;\n",
       "    }\n",
       "</style>\n",
       "<table border=\"1\" class=\"dataframe\">\n",
       "  <thead>\n",
       "    <tr style=\"text-align: right;\">\n",
       "      <th></th>\n",
       "      <th>complaint</th>\n",
       "      <th>lemme_complaint</th>\n",
       "      <th>complaint_POS_removed</th>\n",
       "      <th>Complaint_clean</th>\n",
       "    </tr>\n",
       "  </thead>\n",
       "  <tbody>\n",
       "    <tr>\n",
       "      <th>1</th>\n",
       "      <td>good morning my name is and i appreciate it if...</td>\n",
       "      <td>good morning my name is and i appreciate it if...</td>\n",
       "      <td>morning name stop bank service debt verificati...</td>\n",
       "      <td>morning name stop bank service debt verificati...</td>\n",
       "    </tr>\n",
       "    <tr>\n",
       "      <th>2</th>\n",
       "      <td>i upgraded my card in and was told by the agen...</td>\n",
       "      <td>i upgraded my card in and wa told by the agent...</td>\n",
       "      <td>card agent anniversary date agent information ...</td>\n",
       "      <td>card agent anniversary date agent information ...</td>\n",
       "    </tr>\n",
       "    <tr>\n",
       "      <th>10</th>\n",
       "      <td>chase card was reported on however fraudulent ...</td>\n",
       "      <td>chase card wa reported on however fraudulent a...</td>\n",
       "      <td>card application identity consent service cred...</td>\n",
       "      <td>card application identity consent service cred...</td>\n",
       "    </tr>\n",
       "    <tr>\n",
       "      <th>11</th>\n",
       "      <td>on while trying to book a ticket i came across...</td>\n",
       "      <td>on while trying to book a ticket i came across...</td>\n",
       "      <td>ticket offer ticket reward card information of...</td>\n",
       "      <td>ticket offer ticket reward card information of...</td>\n",
       "    </tr>\n",
       "    <tr>\n",
       "      <th>14</th>\n",
       "      <td>my grand son give me check for i deposit it in...</td>\n",
       "      <td>my grand son give me check for i deposit it in...</td>\n",
       "      <td>son chase account fund chase bank account mone...</td>\n",
       "      <td>son chase account fund chase bank account mone...</td>\n",
       "    </tr>\n",
       "    <tr>\n",
       "      <th>...</th>\n",
       "      <td>...</td>\n",
       "      <td>...</td>\n",
       "      <td>...</td>\n",
       "      <td>...</td>\n",
       "    </tr>\n",
       "    <tr>\n",
       "      <th>78303</th>\n",
       "      <td>after being a chase card customer for well ove...</td>\n",
       "      <td>after being a chase card customer for well ove...</td>\n",
       "      <td>chase card customer decade solicitation credit...</td>\n",
       "      <td>chase card customer decade solicitation credit...</td>\n",
       "    </tr>\n",
       "    <tr>\n",
       "      <th>78309</th>\n",
       "      <td>on wednesday i called chas my visa credit card...</td>\n",
       "      <td>on wednesday i called chas my visa credit card...</td>\n",
       "      <td>visa credit card provider claim purchase prote...</td>\n",
       "      <td>visa credit card provider claim purchase prote...</td>\n",
       "    </tr>\n",
       "    <tr>\n",
       "      <th>78310</th>\n",
       "      <td>i am not familiar with pay and did not underst...</td>\n",
       "      <td>i am not familiar with pay and did not underst...</td>\n",
       "      <td>pay risk consumer chase bank app chase year ba...</td>\n",
       "      <td>pay risk consumer chase bank app chase year ba...</td>\n",
       "    </tr>\n",
       "    <tr>\n",
       "      <th>78311</th>\n",
       "      <td>i have had flawless credit for yrs ive had cha...</td>\n",
       "      <td>i have had flawless credit for yr ive had chas...</td>\n",
       "      <td>credit chase credit card chase freedom problem...</td>\n",
       "      <td>credit chase credit card chase freedom problem...</td>\n",
       "    </tr>\n",
       "    <tr>\n",
       "      <th>78312</th>\n",
       "      <td>roughly years ago i closed out my accounts wit...</td>\n",
       "      <td>roughly year ago i closed out my account with ...</td>\n",
       "      <td>year account order line credit account dollar ...</td>\n",
       "      <td>year account order line credit account dollar ...</td>\n",
       "    </tr>\n",
       "  </tbody>\n",
       "</table>\n",
       "<p>21072 rows × 4 columns</p>\n",
       "</div>"
      ],
      "text/plain": [
       "                                               complaint  \\\n",
       "1      good morning my name is and i appreciate it if...   \n",
       "2      i upgraded my card in and was told by the agen...   \n",
       "10     chase card was reported on however fraudulent ...   \n",
       "11     on while trying to book a ticket i came across...   \n",
       "14     my grand son give me check for i deposit it in...   \n",
       "...                                                  ...   \n",
       "78303  after being a chase card customer for well ove...   \n",
       "78309  on wednesday i called chas my visa credit card...   \n",
       "78310  i am not familiar with pay and did not underst...   \n",
       "78311  i have had flawless credit for yrs ive had cha...   \n",
       "78312  roughly years ago i closed out my accounts wit...   \n",
       "\n",
       "                                         lemme_complaint  \\\n",
       "1      good morning my name is and i appreciate it if...   \n",
       "2      i upgraded my card in and wa told by the agent...   \n",
       "10     chase card wa reported on however fraudulent a...   \n",
       "11     on while trying to book a ticket i came across...   \n",
       "14     my grand son give me check for i deposit it in...   \n",
       "...                                                  ...   \n",
       "78303  after being a chase card customer for well ove...   \n",
       "78309  on wednesday i called chas my visa credit card...   \n",
       "78310  i am not familiar with pay and did not underst...   \n",
       "78311  i have had flawless credit for yr ive had chas...   \n",
       "78312  roughly year ago i closed out my account with ...   \n",
       "\n",
       "                                   complaint_POS_removed  \\\n",
       "1      morning name stop bank service debt verificati...   \n",
       "2      card agent anniversary date agent information ...   \n",
       "10     card application identity consent service cred...   \n",
       "11     ticket offer ticket reward card information of...   \n",
       "14     son chase account fund chase bank account mone...   \n",
       "...                                                  ...   \n",
       "78303  chase card customer decade solicitation credit...   \n",
       "78309  visa credit card provider claim purchase prote...   \n",
       "78310  pay risk consumer chase bank app chase year ba...   \n",
       "78311  credit chase credit card chase freedom problem...   \n",
       "78312  year account order line credit account dollar ...   \n",
       "\n",
       "                                         Complaint_clean  \n",
       "1      morning name stop bank service debt verificati...  \n",
       "2      card agent anniversary date agent information ...  \n",
       "10     card application identity consent service cred...  \n",
       "11     ticket offer ticket reward card information of...  \n",
       "14     son chase account fund chase bank account mone...  \n",
       "...                                                  ...  \n",
       "78303  chase card customer decade solicitation credit...  \n",
       "78309  visa credit card provider claim purchase prote...  \n",
       "78310  pay risk consumer chase bank app chase year ba...  \n",
       "78311  credit chase credit card chase freedom problem...  \n",
       "78312  year account order line credit account dollar ...  \n",
       "\n",
       "[21072 rows x 4 columns]"
      ]
     },
     "execution_count": 27,
     "metadata": {},
     "output_type": "execute_result"
    }
   ],
   "source": [
    "#All masked texts has been removed\n",
    "df_clean"
   ]
  },
  {
   "cell_type": "markdown",
   "metadata": {
    "id": "k-I0k0QtJrGA"
   },
   "source": [
    "## Feature Extraction\n",
    "Convert the raw texts to a matrix of TF-IDF features\n",
    "\n",
    "**max_df** is used for removing terms that appear too frequently, also known as \"corpus-specific stop words\"\n",
    "max_df = 0.95 means \"ignore terms that appear in more than 95% of the complaints\"\n",
    "\n",
    "**min_df** is used for removing terms that appear too infrequently\n",
    "min_df = 2 means \"ignore terms that appear in less than 2 complaints\""
   ]
  },
  {
   "cell_type": "code",
   "execution_count": 28,
   "metadata": {
    "id": "Y8fGwaCPJrGA"
   },
   "outputs": [],
   "source": [
    "#Write your code here to initialise the TfidfVectorizer \n",
    "\n",
    "vect = TfidfVectorizer(stop_words='english', max_df = 0.95, min_df = 2)\n"
   ]
  },
  {
   "cell_type": "markdown",
   "metadata": {
    "id": "yYzD85nTJrGA"
   },
   "source": [
    "#### Create a document term matrix using fit_transform\n",
    "\n",
    "The contents of a document term matrix are tuples of (complaint_id,token_id) tf-idf score:\n",
    "The tuples that are not there have a tf-idf score of 0"
   ]
  },
  {
   "cell_type": "code",
   "execution_count": 29,
   "metadata": {
    "id": "ffzdDpp_JrGB"
   },
   "outputs": [
    {
     "data": {
      "text/html": [
       "<div>\n",
       "<style scoped>\n",
       "    .dataframe tbody tr th:only-of-type {\n",
       "        vertical-align: middle;\n",
       "    }\n",
       "\n",
       "    .dataframe tbody tr th {\n",
       "        vertical-align: top;\n",
       "    }\n",
       "\n",
       "    .dataframe thead th {\n",
       "        text-align: right;\n",
       "    }\n",
       "</style>\n",
       "<table border=\"1\" class=\"dataframe\">\n",
       "  <thead>\n",
       "    <tr style=\"text-align: right;\">\n",
       "      <th></th>\n",
       "      <th>aarp</th>\n",
       "      <th>abandonment</th>\n",
       "      <th>abatement</th>\n",
       "      <th>abide</th>\n",
       "      <th>ability</th>\n",
       "      <th>absence</th>\n",
       "      <th>absent</th>\n",
       "      <th>absurdity</th>\n",
       "      <th>abundance</th>\n",
       "      <th>abuse</th>\n",
       "      <th>...</th>\n",
       "      <th>yesterday</th>\n",
       "      <th>yhe</th>\n",
       "      <th>yield</th>\n",
       "      <th>yoga</th>\n",
       "      <th>yr</th>\n",
       "      <th>ytd</th>\n",
       "      <th>zilch</th>\n",
       "      <th>zip</th>\n",
       "      <th>zombie</th>\n",
       "      <th>zone</th>\n",
       "    </tr>\n",
       "  </thead>\n",
       "  <tbody>\n",
       "    <tr>\n",
       "      <th>0</th>\n",
       "      <td>0.0</td>\n",
       "      <td>0.0</td>\n",
       "      <td>0.0</td>\n",
       "      <td>0.0</td>\n",
       "      <td>0.0</td>\n",
       "      <td>0.0</td>\n",
       "      <td>0.0</td>\n",
       "      <td>0.0</td>\n",
       "      <td>0.0</td>\n",
       "      <td>0.0</td>\n",
       "      <td>...</td>\n",
       "      <td>0.0</td>\n",
       "      <td>0.0</td>\n",
       "      <td>0.0</td>\n",
       "      <td>0.0</td>\n",
       "      <td>0.0</td>\n",
       "      <td>0.0</td>\n",
       "      <td>0.0</td>\n",
       "      <td>0.0</td>\n",
       "      <td>0.0</td>\n",
       "      <td>0.0</td>\n",
       "    </tr>\n",
       "    <tr>\n",
       "      <th>1</th>\n",
       "      <td>0.0</td>\n",
       "      <td>0.0</td>\n",
       "      <td>0.0</td>\n",
       "      <td>0.0</td>\n",
       "      <td>0.0</td>\n",
       "      <td>0.0</td>\n",
       "      <td>0.0</td>\n",
       "      <td>0.0</td>\n",
       "      <td>0.0</td>\n",
       "      <td>0.0</td>\n",
       "      <td>...</td>\n",
       "      <td>0.0</td>\n",
       "      <td>0.0</td>\n",
       "      <td>0.0</td>\n",
       "      <td>0.0</td>\n",
       "      <td>0.0</td>\n",
       "      <td>0.0</td>\n",
       "      <td>0.0</td>\n",
       "      <td>0.0</td>\n",
       "      <td>0.0</td>\n",
       "      <td>0.0</td>\n",
       "    </tr>\n",
       "    <tr>\n",
       "      <th>2</th>\n",
       "      <td>0.0</td>\n",
       "      <td>0.0</td>\n",
       "      <td>0.0</td>\n",
       "      <td>0.0</td>\n",
       "      <td>0.0</td>\n",
       "      <td>0.0</td>\n",
       "      <td>0.0</td>\n",
       "      <td>0.0</td>\n",
       "      <td>0.0</td>\n",
       "      <td>0.0</td>\n",
       "      <td>...</td>\n",
       "      <td>0.0</td>\n",
       "      <td>0.0</td>\n",
       "      <td>0.0</td>\n",
       "      <td>0.0</td>\n",
       "      <td>0.0</td>\n",
       "      <td>0.0</td>\n",
       "      <td>0.0</td>\n",
       "      <td>0.0</td>\n",
       "      <td>0.0</td>\n",
       "      <td>0.0</td>\n",
       "    </tr>\n",
       "    <tr>\n",
       "      <th>3</th>\n",
       "      <td>0.0</td>\n",
       "      <td>0.0</td>\n",
       "      <td>0.0</td>\n",
       "      <td>0.0</td>\n",
       "      <td>0.0</td>\n",
       "      <td>0.0</td>\n",
       "      <td>0.0</td>\n",
       "      <td>0.0</td>\n",
       "      <td>0.0</td>\n",
       "      <td>0.0</td>\n",
       "      <td>...</td>\n",
       "      <td>0.0</td>\n",
       "      <td>0.0</td>\n",
       "      <td>0.0</td>\n",
       "      <td>0.0</td>\n",
       "      <td>0.0</td>\n",
       "      <td>0.0</td>\n",
       "      <td>0.0</td>\n",
       "      <td>0.0</td>\n",
       "      <td>0.0</td>\n",
       "      <td>0.0</td>\n",
       "    </tr>\n",
       "    <tr>\n",
       "      <th>4</th>\n",
       "      <td>0.0</td>\n",
       "      <td>0.0</td>\n",
       "      <td>0.0</td>\n",
       "      <td>0.0</td>\n",
       "      <td>0.0</td>\n",
       "      <td>0.0</td>\n",
       "      <td>0.0</td>\n",
       "      <td>0.0</td>\n",
       "      <td>0.0</td>\n",
       "      <td>0.0</td>\n",
       "      <td>...</td>\n",
       "      <td>0.0</td>\n",
       "      <td>0.0</td>\n",
       "      <td>0.0</td>\n",
       "      <td>0.0</td>\n",
       "      <td>0.0</td>\n",
       "      <td>0.0</td>\n",
       "      <td>0.0</td>\n",
       "      <td>0.0</td>\n",
       "      <td>0.0</td>\n",
       "      <td>0.0</td>\n",
       "    </tr>\n",
       "    <tr>\n",
       "      <th>...</th>\n",
       "      <td>...</td>\n",
       "      <td>...</td>\n",
       "      <td>...</td>\n",
       "      <td>...</td>\n",
       "      <td>...</td>\n",
       "      <td>...</td>\n",
       "      <td>...</td>\n",
       "      <td>...</td>\n",
       "      <td>...</td>\n",
       "      <td>...</td>\n",
       "      <td>...</td>\n",
       "      <td>...</td>\n",
       "      <td>...</td>\n",
       "      <td>...</td>\n",
       "      <td>...</td>\n",
       "      <td>...</td>\n",
       "      <td>...</td>\n",
       "      <td>...</td>\n",
       "      <td>...</td>\n",
       "      <td>...</td>\n",
       "      <td>...</td>\n",
       "    </tr>\n",
       "    <tr>\n",
       "      <th>21067</th>\n",
       "      <td>0.0</td>\n",
       "      <td>0.0</td>\n",
       "      <td>0.0</td>\n",
       "      <td>0.0</td>\n",
       "      <td>0.0</td>\n",
       "      <td>0.0</td>\n",
       "      <td>0.0</td>\n",
       "      <td>0.0</td>\n",
       "      <td>0.0</td>\n",
       "      <td>0.0</td>\n",
       "      <td>...</td>\n",
       "      <td>0.0</td>\n",
       "      <td>0.0</td>\n",
       "      <td>0.0</td>\n",
       "      <td>0.0</td>\n",
       "      <td>0.0</td>\n",
       "      <td>0.0</td>\n",
       "      <td>0.0</td>\n",
       "      <td>0.0</td>\n",
       "      <td>0.0</td>\n",
       "      <td>0.0</td>\n",
       "    </tr>\n",
       "    <tr>\n",
       "      <th>21068</th>\n",
       "      <td>0.0</td>\n",
       "      <td>0.0</td>\n",
       "      <td>0.0</td>\n",
       "      <td>0.0</td>\n",
       "      <td>0.0</td>\n",
       "      <td>0.0</td>\n",
       "      <td>0.0</td>\n",
       "      <td>0.0</td>\n",
       "      <td>0.0</td>\n",
       "      <td>0.0</td>\n",
       "      <td>...</td>\n",
       "      <td>0.0</td>\n",
       "      <td>0.0</td>\n",
       "      <td>0.0</td>\n",
       "      <td>0.0</td>\n",
       "      <td>0.0</td>\n",
       "      <td>0.0</td>\n",
       "      <td>0.0</td>\n",
       "      <td>0.0</td>\n",
       "      <td>0.0</td>\n",
       "      <td>0.0</td>\n",
       "    </tr>\n",
       "    <tr>\n",
       "      <th>21069</th>\n",
       "      <td>0.0</td>\n",
       "      <td>0.0</td>\n",
       "      <td>0.0</td>\n",
       "      <td>0.0</td>\n",
       "      <td>0.0</td>\n",
       "      <td>0.0</td>\n",
       "      <td>0.0</td>\n",
       "      <td>0.0</td>\n",
       "      <td>0.0</td>\n",
       "      <td>0.0</td>\n",
       "      <td>...</td>\n",
       "      <td>0.0</td>\n",
       "      <td>0.0</td>\n",
       "      <td>0.0</td>\n",
       "      <td>0.0</td>\n",
       "      <td>0.0</td>\n",
       "      <td>0.0</td>\n",
       "      <td>0.0</td>\n",
       "      <td>0.0</td>\n",
       "      <td>0.0</td>\n",
       "      <td>0.0</td>\n",
       "    </tr>\n",
       "    <tr>\n",
       "      <th>21070</th>\n",
       "      <td>0.0</td>\n",
       "      <td>0.0</td>\n",
       "      <td>0.0</td>\n",
       "      <td>0.0</td>\n",
       "      <td>0.0</td>\n",
       "      <td>0.0</td>\n",
       "      <td>0.0</td>\n",
       "      <td>0.0</td>\n",
       "      <td>0.0</td>\n",
       "      <td>0.0</td>\n",
       "      <td>...</td>\n",
       "      <td>0.0</td>\n",
       "      <td>0.0</td>\n",
       "      <td>0.0</td>\n",
       "      <td>0.0</td>\n",
       "      <td>0.0</td>\n",
       "      <td>0.0</td>\n",
       "      <td>0.0</td>\n",
       "      <td>0.0</td>\n",
       "      <td>0.0</td>\n",
       "      <td>0.0</td>\n",
       "    </tr>\n",
       "    <tr>\n",
       "      <th>21071</th>\n",
       "      <td>0.0</td>\n",
       "      <td>0.0</td>\n",
       "      <td>0.0</td>\n",
       "      <td>0.0</td>\n",
       "      <td>0.0</td>\n",
       "      <td>0.0</td>\n",
       "      <td>0.0</td>\n",
       "      <td>0.0</td>\n",
       "      <td>0.0</td>\n",
       "      <td>0.0</td>\n",
       "      <td>...</td>\n",
       "      <td>0.0</td>\n",
       "      <td>0.0</td>\n",
       "      <td>0.0</td>\n",
       "      <td>0.0</td>\n",
       "      <td>0.0</td>\n",
       "      <td>0.0</td>\n",
       "      <td>0.0</td>\n",
       "      <td>0.0</td>\n",
       "      <td>0.0</td>\n",
       "      <td>0.0</td>\n",
       "    </tr>\n",
       "  </tbody>\n",
       "</table>\n",
       "<p>21072 rows × 5616 columns</p>\n",
       "</div>"
      ],
      "text/plain": [
       "       aarp  abandonment  abatement  abide  ability  absence  absent  \\\n",
       "0       0.0          0.0        0.0    0.0      0.0      0.0     0.0   \n",
       "1       0.0          0.0        0.0    0.0      0.0      0.0     0.0   \n",
       "2       0.0          0.0        0.0    0.0      0.0      0.0     0.0   \n",
       "3       0.0          0.0        0.0    0.0      0.0      0.0     0.0   \n",
       "4       0.0          0.0        0.0    0.0      0.0      0.0     0.0   \n",
       "...     ...          ...        ...    ...      ...      ...     ...   \n",
       "21067   0.0          0.0        0.0    0.0      0.0      0.0     0.0   \n",
       "21068   0.0          0.0        0.0    0.0      0.0      0.0     0.0   \n",
       "21069   0.0          0.0        0.0    0.0      0.0      0.0     0.0   \n",
       "21070   0.0          0.0        0.0    0.0      0.0      0.0     0.0   \n",
       "21071   0.0          0.0        0.0    0.0      0.0      0.0     0.0   \n",
       "\n",
       "       absurdity  abundance  abuse  ...  yesterday  yhe  yield  yoga   yr  \\\n",
       "0            0.0        0.0    0.0  ...        0.0  0.0    0.0   0.0  0.0   \n",
       "1            0.0        0.0    0.0  ...        0.0  0.0    0.0   0.0  0.0   \n",
       "2            0.0        0.0    0.0  ...        0.0  0.0    0.0   0.0  0.0   \n",
       "3            0.0        0.0    0.0  ...        0.0  0.0    0.0   0.0  0.0   \n",
       "4            0.0        0.0    0.0  ...        0.0  0.0    0.0   0.0  0.0   \n",
       "...          ...        ...    ...  ...        ...  ...    ...   ...  ...   \n",
       "21067        0.0        0.0    0.0  ...        0.0  0.0    0.0   0.0  0.0   \n",
       "21068        0.0        0.0    0.0  ...        0.0  0.0    0.0   0.0  0.0   \n",
       "21069        0.0        0.0    0.0  ...        0.0  0.0    0.0   0.0  0.0   \n",
       "21070        0.0        0.0    0.0  ...        0.0  0.0    0.0   0.0  0.0   \n",
       "21071        0.0        0.0    0.0  ...        0.0  0.0    0.0   0.0  0.0   \n",
       "\n",
       "       ytd  zilch  zip  zombie  zone  \n",
       "0      0.0    0.0  0.0     0.0   0.0  \n",
       "1      0.0    0.0  0.0     0.0   0.0  \n",
       "2      0.0    0.0  0.0     0.0   0.0  \n",
       "3      0.0    0.0  0.0     0.0   0.0  \n",
       "4      0.0    0.0  0.0     0.0   0.0  \n",
       "...    ...    ...  ...     ...   ...  \n",
       "21067  0.0    0.0  0.0     0.0   0.0  \n",
       "21068  0.0    0.0  0.0     0.0   0.0  \n",
       "21069  0.0    0.0  0.0     0.0   0.0  \n",
       "21070  0.0    0.0  0.0     0.0   0.0  \n",
       "21071  0.0    0.0  0.0     0.0   0.0  \n",
       "\n",
       "[21072 rows x 5616 columns]"
      ]
     },
     "execution_count": 29,
     "metadata": {},
     "output_type": "execute_result"
    }
   ],
   "source": [
    "#Write your code here to create the Document Term Matrix by transforming the complaints column present in df_clean.\n",
    "\n",
    "X = vect.fit_transform(df_clean['Complaint_clean'])\n",
    "\n",
    "pd.DataFrame(X.toarray(), columns=vect.get_feature_names_out())"
   ]
  },
  {
   "cell_type": "markdown",
   "metadata": {
    "id": "7Q9lwvNEJrGB"
   },
   "source": [
    "## Topic Modelling using NMF\n",
    "\n",
    "Non-Negative Matrix Factorization (NMF) is an unsupervised technique so there are no labeling of topics that the model will be trained on. The way it works is that, NMF decomposes (or factorizes) high-dimensional vectors into a lower-dimensional representation. These lower-dimensional vectors are non-negative which also means their coefficients are non-negative.\n",
    "\n",
    "In this task you have to perform the following:\n",
    "\n",
    "* Find the best number of clusters \n",
    "* Apply the best number to create word clusters\n",
    "* Inspect & validate the correction of each cluster wrt the complaints \n",
    "* Correct the labels if needed \n",
    "* Map the clusters to topics/cluster names"
   ]
  },
  {
   "cell_type": "markdown",
   "metadata": {
    "id": "0wYR1xUTJrGD"
   },
   "source": [
    "## Manual Topic Modeling\n",
    "You need to do take the trial & error approach to find the best num of topics for your NMF model.\n",
    "\n",
    "The only parameter that is required is the number of components i.e. the number of topics we want. This is the most crucial step in the whole topic modeling process and will greatly affect how good your final topics are."
   ]
  },
  {
   "cell_type": "code",
   "execution_count": 30,
   "metadata": {
    "id": "sgd2A6bhJrGD"
   },
   "outputs": [],
   "source": [
    "#Load your nmf_model with the n_components i.e 5\n",
    "num_topics = 5\n",
    "\n",
    "#keep the random_state =40\n",
    "nmf_model = NMF(n_components=num_topics, random_state=40)"
   ]
  },
  {
   "cell_type": "code",
   "execution_count": 31,
   "metadata": {
    "id": "VPMDYbt_JrGE"
   },
   "outputs": [
    {
     "name": "stdout",
     "output_type": "stream",
     "text": [
      "5616\n",
      "(21072, 5)\n"
     ]
    }
   ],
   "source": [
    "W = nmf_model.fit_transform(X)\n",
    "words = vect.get_feature_names_out()\n",
    "print (len(words))\n",
    "print (W.shape)"
   ]
  },
  {
   "cell_type": "code",
   "execution_count": 32,
   "metadata": {
    "id": "16kRfat5JrGE"
   },
   "outputs": [
    {
     "data": {
      "text/plain": [
       "(5, 5616)"
      ]
     },
     "execution_count": 32,
     "metadata": {},
     "output_type": "execute_result"
    }
   ],
   "source": [
    "H = nmf_model.components_       # Topic-term matrix\n",
    "H.shape"
   ]
  },
  {
   "cell_type": "code",
   "execution_count": 33,
   "metadata": {},
   "outputs": [],
   "source": [
    "# Function as taught to sort the important words per topic \n",
    "def argsort(seq):\n",
    "    return sorted(range(len(seq)), key=seq.__getitem__)"
   ]
  },
  {
   "cell_type": "code",
   "execution_count": 34,
   "metadata": {},
   "outputs": [
    {
     "name": "stdout",
     "output_type": "stream",
     "text": [
      "Topic 0\n",
      "['account' 'bank' 'money' 'chase' 'fund' 'checking' 'transaction' 'fee'\n",
      " 'branch' 'number' 'day' 'information' 'business' 'deposit' 'balance']\n",
      "Topic 1\n",
      "['card' 'charge' 'chase' 'credit' 'dispute' 'transaction' 'fraud'\n",
      " 'purchase' 'service' 'time' 'merchant' 'fee' 'balance' 'company'\n",
      " 'customer']\n",
      "Topic 2\n",
      "['payment' 'loan' 'mortgage' 'chase' 'home' 'month' 'time' 'modification'\n",
      " 'year' 'rate' 'property' 'day' 'statement' 'balance' 'letter']\n",
      "Topic 3\n",
      "['credit' 'report' 'inquiry' 'card' 'score' 'bureau' 'company' 'debt'\n",
      " 'reporting' 'information' 'application' 'identity' 'limit' 'theft'\n",
      " 'account']\n",
      "Topic 4\n",
      "['check' 'bank' 'fund' 'money' 'day' 'deposit' 'chase' 'branch' 'claim'\n",
      " 'hold' 'cashier' 'customer' 'business' 'time' 'person']\n"
     ]
    }
   ],
   "source": [
    "\n",
    "#Print the Top15 words for each of the topics\n",
    "for i in range(num_topics):\n",
    "    ix = H[i].argsort()[::-1][:15]\n",
    "    print (\"Topic \" + str(i))       \n",
    "    print (words[ix])"
   ]
  },
  {
   "cell_type": "code",
   "execution_count": 35,
   "metadata": {
    "id": "peyYv-ORJrGF"
   },
   "outputs": [],
   "source": [
    "#Create the best topic for each complaint in terms of integer value 0,1,2,3 & 4\n",
    "#Assign the best topic to each of the cmplaints in Topic Column\n",
    "\n",
    "df_clean['Topic'] = [np.argmax(doc) for doc in W]"
   ]
  },
  {
   "cell_type": "code",
   "execution_count": 36,
   "metadata": {
    "id": "aQKpufSPJrGG"
   },
   "outputs": [
    {
     "data": {
      "text/html": [
       "<div>\n",
       "<style scoped>\n",
       "    .dataframe tbody tr th:only-of-type {\n",
       "        vertical-align: middle;\n",
       "    }\n",
       "\n",
       "    .dataframe tbody tr th {\n",
       "        vertical-align: top;\n",
       "    }\n",
       "\n",
       "    .dataframe thead th {\n",
       "        text-align: right;\n",
       "    }\n",
       "</style>\n",
       "<table border=\"1\" class=\"dataframe\">\n",
       "  <thead>\n",
       "    <tr style=\"text-align: right;\">\n",
       "      <th></th>\n",
       "      <th>complaint</th>\n",
       "      <th>lemme_complaint</th>\n",
       "      <th>complaint_POS_removed</th>\n",
       "      <th>Complaint_clean</th>\n",
       "      <th>Topic</th>\n",
       "    </tr>\n",
       "  </thead>\n",
       "  <tbody>\n",
       "    <tr>\n",
       "      <th>1</th>\n",
       "      <td>good morning my name is and i appreciate it if...</td>\n",
       "      <td>good morning my name is and i appreciate it if...</td>\n",
       "      <td>morning name stop bank service debt verificati...</td>\n",
       "      <td>morning name stop bank service debt verificati...</td>\n",
       "      <td>0</td>\n",
       "    </tr>\n",
       "    <tr>\n",
       "      <th>30</th>\n",
       "      <td>to whom it may concern chase bank charged wron...</td>\n",
       "      <td>to whom it may concern chase bank charged wron...</td>\n",
       "      <td>bank overdraft fee alert balance fee balance t...</td>\n",
       "      <td>bank overdraft fee alert balance fee balance t...</td>\n",
       "      <td>0</td>\n",
       "    </tr>\n",
       "    <tr>\n",
       "      <th>24</th>\n",
       "      <td>mishandling of this account by chase auto and</td>\n",
       "      <td>mishandling of this account by chase auto and</td>\n",
       "      <td>account chase auto</td>\n",
       "      <td>account chase auto</td>\n",
       "      <td>0</td>\n",
       "    </tr>\n",
       "    <tr>\n",
       "      <th>17</th>\n",
       "      <td>with out notice jp morgan chase restricted my ...</td>\n",
       "      <td>with out notice jp morgan chase restricted my ...</td>\n",
       "      <td>notice account debit card branch customer serv...</td>\n",
       "      <td>notice account debit card branch customer serv...</td>\n",
       "      <td>0</td>\n",
       "    </tr>\n",
       "    <tr>\n",
       "      <th>27</th>\n",
       "      <td>i opened an account with chase bank on and use...</td>\n",
       "      <td>i opened an account with chase bank on and use...</td>\n",
       "      <td>account code bonus term everything account dep...</td>\n",
       "      <td>account code bonus term everything account dep...</td>\n",
       "      <td>0</td>\n",
       "    </tr>\n",
       "    <tr>\n",
       "      <th>32</th>\n",
       "      <td>my chase amazon card was declined for a cateri...</td>\n",
       "      <td>my chase amazon card wa declined for a caterin...</td>\n",
       "      <td>chase catering order brother funeral amount tr...</td>\n",
       "      <td>chase catering order brother funeral amount tr...</td>\n",
       "      <td>1</td>\n",
       "    </tr>\n",
       "    <tr>\n",
       "      <th>21</th>\n",
       "      <td>on i made a payment to an online retailer usin...</td>\n",
       "      <td>on i made a payment to an online retailer usin...</td>\n",
       "      <td>payment retailer chase pay chase website scam ...</td>\n",
       "      <td>payment retailer chase pay chase website scam ...</td>\n",
       "      <td>1</td>\n",
       "    </tr>\n",
       "    <tr>\n",
       "      <th>45</th>\n",
       "      <td>i made a purchase with on in the amount of i w...</td>\n",
       "      <td>i made a purchase with on in the amount of i w...</td>\n",
       "      <td>purchase amount transaction dispute case charg...</td>\n",
       "      <td>purchase amount transaction dispute case charg...</td>\n",
       "      <td>1</td>\n",
       "    </tr>\n",
       "    <tr>\n",
       "      <th>2</th>\n",
       "      <td>i upgraded my card in and was told by the agen...</td>\n",
       "      <td>i upgraded my card in and wa told by the agent...</td>\n",
       "      <td>card agent anniversary date agent information ...</td>\n",
       "      <td>card agent anniversary date agent information ...</td>\n",
       "      <td>1</td>\n",
       "    </tr>\n",
       "    <tr>\n",
       "      <th>40</th>\n",
       "      <td>a sofa love seat table and chairs and was nev...</td>\n",
       "      <td>a sofa love seat table and chair and wa never ...</td>\n",
       "      <td>sofa love seat table chair debit card bank vis...</td>\n",
       "      <td>sofa love seat table chair debit card bank vis...</td>\n",
       "      <td>1</td>\n",
       "    </tr>\n",
       "    <tr>\n",
       "      <th>81</th>\n",
       "      <td>i bought a new on from in i paid the loan in b...</td>\n",
       "      <td>i bought a new on from in i paid the loan in b...</td>\n",
       "      <td>loan title chase time resolution time nothing ...</td>\n",
       "      <td>loan title chase time resolution time nothing ...</td>\n",
       "      <td>2</td>\n",
       "    </tr>\n",
       "    <tr>\n",
       "      <th>20</th>\n",
       "      <td>during the summer months i experience a declin...</td>\n",
       "      <td>during the summer month i experience a decline...</td>\n",
       "      <td>summer month decline income employment month p...</td>\n",
       "      <td>summer month decline income employment month p...</td>\n",
       "      <td>2</td>\n",
       "    </tr>\n",
       "    <tr>\n",
       "      <th>73</th>\n",
       "      <td>i have wired through one of chase branches in ...</td>\n",
       "      <td>i have wired through one of chase branch in th...</td>\n",
       "      <td>chase branch reinstatement amount order forecl...</td>\n",
       "      <td>chase branch reinstatement amount order forecl...</td>\n",
       "      <td>2</td>\n",
       "    </tr>\n",
       "    <tr>\n",
       "      <th>58</th>\n",
       "      <td>i made a purchase of on i have enclosed the pr...</td>\n",
       "      <td>i made a purchase of on i have enclosed the pr...</td>\n",
       "      <td>purchase month statement purchase one statemen...</td>\n",
       "      <td>purchase month statement purchase one statemen...</td>\n",
       "      <td>2</td>\n",
       "    </tr>\n",
       "    <tr>\n",
       "      <th>57</th>\n",
       "      <td>i have been trying to do a loan modification w...</td>\n",
       "      <td>i have been trying to do a loan modification w...</td>\n",
       "      <td>loan modification chase payment doc</td>\n",
       "      <td>loan modification chase payment doc</td>\n",
       "      <td>2</td>\n",
       "    </tr>\n",
       "    <tr>\n",
       "      <th>15</th>\n",
       "      <td>can you please remove inquiry</td>\n",
       "      <td>can you please remove inquiry</td>\n",
       "      <td>inquiry</td>\n",
       "      <td>inquiry</td>\n",
       "      <td>3</td>\n",
       "    </tr>\n",
       "    <tr>\n",
       "      <th>26</th>\n",
       "      <td>i have reached out to several times in attempt...</td>\n",
       "      <td>i have reached out to several time in attempt ...</td>\n",
       "      <td>time attempt inquiry creditor inquiry report a...</td>\n",
       "      <td>time attempt inquiry creditor inquiry report a...</td>\n",
       "      <td>3</td>\n",
       "    </tr>\n",
       "    <tr>\n",
       "      <th>10</th>\n",
       "      <td>chase card was reported on however fraudulent ...</td>\n",
       "      <td>chase card wa reported on however fraudulent a...</td>\n",
       "      <td>card application identity consent service cred...</td>\n",
       "      <td>card application identity consent service cred...</td>\n",
       "      <td>3</td>\n",
       "    </tr>\n",
       "    <tr>\n",
       "      <th>23</th>\n",
       "      <td>i have a chase credit card which is incorrectl...</td>\n",
       "      <td>i have a chase credit card which is incorrectl...</td>\n",
       "      <td>credit card credit report company issue</td>\n",
       "      <td>credit card credit report company issue</td>\n",
       "      <td>3</td>\n",
       "    </tr>\n",
       "    <tr>\n",
       "      <th>11</th>\n",
       "      <td>on while trying to book a ticket i came across...</td>\n",
       "      <td>on while trying to book a ticket i came across...</td>\n",
       "      <td>ticket offer ticket reward card information of...</td>\n",
       "      <td>ticket offer ticket reward card information of...</td>\n",
       "      <td>3</td>\n",
       "    </tr>\n",
       "    <tr>\n",
       "      <th>133</th>\n",
       "      <td>on i made a deposit into my chase bank persona...</td>\n",
       "      <td>on i made a deposit into my chase bank persona...</td>\n",
       "      <td>deposit chase bank checking account amount acc...</td>\n",
       "      <td>deposit chase bank checking account amount acc...</td>\n",
       "      <td>4</td>\n",
       "    </tr>\n",
       "    <tr>\n",
       "      <th>115</th>\n",
       "      <td>multiple times with the latest being chase has...</td>\n",
       "      <td>multiple time with the latest being chase ha m...</td>\n",
       "      <td>time being chase order credit debit account fe...</td>\n",
       "      <td>time being chase order credit debit account fe...</td>\n",
       "      <td>4</td>\n",
       "    </tr>\n",
       "    <tr>\n",
       "      <th>131</th>\n",
       "      <td>for joining chase bank checking and setting u...</td>\n",
       "      <td>for joining chase bank checking and setting up...</td>\n",
       "      <td>bank deposit deposit deposit day nothing bank ...</td>\n",
       "      <td>bank deposit deposit deposit day nothing bank ...</td>\n",
       "      <td>4</td>\n",
       "    </tr>\n",
       "    <tr>\n",
       "      <th>14</th>\n",
       "      <td>my grand son give me check for i deposit it in...</td>\n",
       "      <td>my grand son give me check for i deposit it in...</td>\n",
       "      <td>son chase account fund chase bank account mone...</td>\n",
       "      <td>son chase account fund chase bank account mone...</td>\n",
       "      <td>4</td>\n",
       "    </tr>\n",
       "    <tr>\n",
       "      <th>154</th>\n",
       "      <td>on our firm issued a check in the amount of we...</td>\n",
       "      <td>on our firm issued a check in the amount of we...</td>\n",
       "      <td>firm check amount fact chase position firm cos...</td>\n",
       "      <td>firm check amount fact chase position firm cos...</td>\n",
       "      <td>4</td>\n",
       "    </tr>\n",
       "  </tbody>\n",
       "</table>\n",
       "</div>"
      ],
      "text/plain": [
       "                                             complaint  \\\n",
       "1    good morning my name is and i appreciate it if...   \n",
       "30   to whom it may concern chase bank charged wron...   \n",
       "24      mishandling of this account by chase auto and    \n",
       "17   with out notice jp morgan chase restricted my ...   \n",
       "27   i opened an account with chase bank on and use...   \n",
       "32   my chase amazon card was declined for a cateri...   \n",
       "21   on i made a payment to an online retailer usin...   \n",
       "45   i made a purchase with on in the amount of i w...   \n",
       "2    i upgraded my card in and was told by the agen...   \n",
       "40    a sofa love seat table and chairs and was nev...   \n",
       "81   i bought a new on from in i paid the loan in b...   \n",
       "20   during the summer months i experience a declin...   \n",
       "73   i have wired through one of chase branches in ...   \n",
       "58   i made a purchase of on i have enclosed the pr...   \n",
       "57   i have been trying to do a loan modification w...   \n",
       "15                       can you please remove inquiry   \n",
       "26   i have reached out to several times in attempt...   \n",
       "10   chase card was reported on however fraudulent ...   \n",
       "23   i have a chase credit card which is incorrectl...   \n",
       "11   on while trying to book a ticket i came across...   \n",
       "133  on i made a deposit into my chase bank persona...   \n",
       "115  multiple times with the latest being chase has...   \n",
       "131   for joining chase bank checking and setting u...   \n",
       "14   my grand son give me check for i deposit it in...   \n",
       "154  on our firm issued a check in the amount of we...   \n",
       "\n",
       "                                       lemme_complaint  \\\n",
       "1    good morning my name is and i appreciate it if...   \n",
       "30   to whom it may concern chase bank charged wron...   \n",
       "24       mishandling of this account by chase auto and   \n",
       "17   with out notice jp morgan chase restricted my ...   \n",
       "27   i opened an account with chase bank on and use...   \n",
       "32   my chase amazon card wa declined for a caterin...   \n",
       "21   on i made a payment to an online retailer usin...   \n",
       "45   i made a purchase with on in the amount of i w...   \n",
       "2    i upgraded my card in and wa told by the agent...   \n",
       "40   a sofa love seat table and chair and wa never ...   \n",
       "81   i bought a new on from in i paid the loan in b...   \n",
       "20   during the summer month i experience a decline...   \n",
       "73   i have wired through one of chase branch in th...   \n",
       "58   i made a purchase of on i have enclosed the pr...   \n",
       "57   i have been trying to do a loan modification w...   \n",
       "15                       can you please remove inquiry   \n",
       "26   i have reached out to several time in attempt ...   \n",
       "10   chase card wa reported on however fraudulent a...   \n",
       "23   i have a chase credit card which is incorrectl...   \n",
       "11   on while trying to book a ticket i came across...   \n",
       "133  on i made a deposit into my chase bank persona...   \n",
       "115  multiple time with the latest being chase ha m...   \n",
       "131  for joining chase bank checking and setting up...   \n",
       "14   my grand son give me check for i deposit it in...   \n",
       "154  on our firm issued a check in the amount of we...   \n",
       "\n",
       "                                 complaint_POS_removed  \\\n",
       "1    morning name stop bank service debt verificati...   \n",
       "30   bank overdraft fee alert balance fee balance t...   \n",
       "24                                  account chase auto   \n",
       "17   notice account debit card branch customer serv...   \n",
       "27   account code bonus term everything account dep...   \n",
       "32   chase catering order brother funeral amount tr...   \n",
       "21   payment retailer chase pay chase website scam ...   \n",
       "45   purchase amount transaction dispute case charg...   \n",
       "2    card agent anniversary date agent information ...   \n",
       "40   sofa love seat table chair debit card bank vis...   \n",
       "81   loan title chase time resolution time nothing ...   \n",
       "20   summer month decline income employment month p...   \n",
       "73   chase branch reinstatement amount order forecl...   \n",
       "58   purchase month statement purchase one statemen...   \n",
       "57                 loan modification chase payment doc   \n",
       "15                                             inquiry   \n",
       "26   time attempt inquiry creditor inquiry report a...   \n",
       "10   card application identity consent service cred...   \n",
       "23             credit card credit report company issue   \n",
       "11   ticket offer ticket reward card information of...   \n",
       "133  deposit chase bank checking account amount acc...   \n",
       "115  time being chase order credit debit account fe...   \n",
       "131  bank deposit deposit deposit day nothing bank ...   \n",
       "14   son chase account fund chase bank account mone...   \n",
       "154  firm check amount fact chase position firm cos...   \n",
       "\n",
       "                                       Complaint_clean  Topic  \n",
       "1    morning name stop bank service debt verificati...      0  \n",
       "30   bank overdraft fee alert balance fee balance t...      0  \n",
       "24                                  account chase auto      0  \n",
       "17   notice account debit card branch customer serv...      0  \n",
       "27   account code bonus term everything account dep...      0  \n",
       "32   chase catering order brother funeral amount tr...      1  \n",
       "21   payment retailer chase pay chase website scam ...      1  \n",
       "45   purchase amount transaction dispute case charg...      1  \n",
       "2    card agent anniversary date agent information ...      1  \n",
       "40   sofa love seat table chair debit card bank vis...      1  \n",
       "81   loan title chase time resolution time nothing ...      2  \n",
       "20   summer month decline income employment month p...      2  \n",
       "73   chase branch reinstatement amount order forecl...      2  \n",
       "58   purchase month statement purchase one statemen...      2  \n",
       "57                 loan modification chase payment doc      2  \n",
       "15                                             inquiry      3  \n",
       "26   time attempt inquiry creditor inquiry report a...      3  \n",
       "10   card application identity consent service cred...      3  \n",
       "23             credit card credit report company issue      3  \n",
       "11   ticket offer ticket reward card information of...      3  \n",
       "133  deposit chase bank checking account amount acc...      4  \n",
       "115  time being chase order credit debit account fe...      4  \n",
       "131  bank deposit deposit deposit day nothing bank ...      4  \n",
       "14   son chase account fund chase bank account mone...      4  \n",
       "154  firm check amount fact chase position firm cos...      4  "
      ]
     },
     "execution_count": 36,
     "metadata": {},
     "output_type": "execute_result"
    }
   ],
   "source": [
    "#Print the first 5 Complaint for each of the Topics\n",
    "df_temp=df_clean.groupby('Topic').head(5)\n",
    "df_temp.sort_values('Topic')"
   ]
  },
  {
   "cell_type": "markdown",
   "metadata": {
    "id": "piyLxzj6v07j"
   },
   "source": [
    "#### After evaluating the mapping, if the topics assigned are correct then assign these names to the relevant topic:\n",
    "* Bank Account services\n",
    "* Credit card or prepaid card\n",
    "* Theft/Dispute Reporting\n",
    "* Mortgage/Loan\n",
    "* Others"
   ]
  },
  {
   "cell_type": "code",
   "execution_count": 37,
   "metadata": {
    "id": "TWpwDG4RJrGG"
   },
   "outputs": [],
   "source": [
    "#Create the dictionary of Topic names and Topics\n",
    "\n",
    "Topic_names = {\n",
    "    0: 'Bank Account Services',\n",
    "    1: 'Credit Card or Prepaid Card',\n",
    "    2: 'Mortgage/Loan',\n",
    "    3: 'Theft/Dispute Reporting',\n",
    "    4: 'Other'\n",
    "}\n",
    "\n",
    "#Replace Topics with Topic Names\n",
    "df_clean['Topic_Name'] = df_clean['Topic'].map(Topic_names)"
   ]
  },
  {
   "cell_type": "code",
   "execution_count": 38,
   "metadata": {
    "id": "-2ULY5K6JrGG"
   },
   "outputs": [
    {
     "data": {
      "text/plain": [
       "(21072, 6)"
      ]
     },
     "execution_count": 38,
     "metadata": {},
     "output_type": "execute_result"
    }
   ],
   "source": [
    "df_clean.shape"
   ]
  },
  {
   "cell_type": "markdown",
   "metadata": {
    "id": "7Mu0QBOcJrGH"
   },
   "source": [
    "## Supervised model to predict any new complaints to the relevant Topics.\n",
    "\n",
    "You have now build the model to create the topics for each complaints.Now in the below section you will use them to classify any new complaints.\n",
    "\n",
    "Since you will be using supervised learning technique we have to convert the topic names to numbers(numpy arrays only understand numbers)"
   ]
  },
  {
   "cell_type": "code",
   "execution_count": 39,
   "metadata": {
    "id": "Xx-FrbkWJrGH"
   },
   "outputs": [],
   "source": [
    "#Keep the columns\"complaint_what_happened\" & \"Topic\" only in the new dataframe --> training_data\n",
    "training_data=df_clean[['Complaint_clean', 'Topic']]"
   ]
  },
  {
   "cell_type": "code",
   "execution_count": 40,
   "metadata": {
    "id": "lVg2pa12JrGI"
   },
   "outputs": [
    {
     "data": {
      "text/plain": [
       "1    6414\n",
       "2    5507\n",
       "0    4399\n",
       "3    2636\n",
       "4    2116\n",
       "Name: Topic, dtype: int64"
      ]
     },
     "execution_count": 40,
     "metadata": {},
     "output_type": "execute_result"
    }
   ],
   "source": [
    "training_data['Topic'].value_counts()"
   ]
  },
  {
   "cell_type": "markdown",
   "metadata": {
    "id": "280Vbqk-7a8M"
   },
   "source": [
    "####Apply the supervised models on the training data created. In this process, you have to do the following:\n",
    "* Create the vector counts using Count Vectoriser\n",
    "* Transform the word vecotr to tf-idf\n",
    "* Create the train & test data using the train_test_split on the tf-idf & topics\n"
   ]
  },
  {
   "cell_type": "code",
   "execution_count": 41,
   "metadata": {
    "id": "oUlQpgkzJrGI"
   },
   "outputs": [],
   "source": [
    "#Write your code here to transform the word vector to tf-idf\n",
    "vect = TfidfVectorizer(stop_words='english', max_df = 0.95, min_df = 2)\n",
    "X = vect.fit_transform(training_data['Complaint_clean'])\n",
    "pd.DataFrame(X.toarray(), columns=vect.get_feature_names_out())\n",
    "Y = training_data['Topic']"
   ]
  },
  {
   "cell_type": "code",
   "execution_count": 42,
   "metadata": {},
   "outputs": [],
   "source": [
    "# Split into train and test\n",
    "x_train, x_test, y_train, y_test = train_test_split(X,Y,test_size = 0.2)"
   ]
  },
  {
   "cell_type": "markdown",
   "metadata": {
    "id": "uMU3vj6w-wqL"
   },
   "source": [
    "You have to try atleast 3 models on the train & test data from these options:\n",
    "* Logistic regression\n",
    "* Decision Tree\n",
    "* Random Forest\n",
    "* Naive Bayes (optional)\n",
    "\n",
    "**Using the required evaluation metrics judge the tried models and select the ones performing the best**"
   ]
  },
  {
   "cell_type": "code",
   "execution_count": 43,
   "metadata": {
    "id": "udLHpPsZJrGI"
   },
   "outputs": [
    {
     "name": "stdout",
     "output_type": "stream",
     "text": [
      "0.9520759193357058\n"
     ]
    }
   ],
   "source": [
    "# Write your code here to build any 3 models and evaluate them using the required metrics\n",
    "\n",
    "# Logistic Regression\n",
    "lr = LogisticRegression(multi_class='multinomial', solver='newton-cg')\n",
    "model_lr = lr.fit(x_train, y_train)\n",
    "y_pred = model_lr.predict(x_test)\n",
    "\n",
    "print(metrics.accuracy_score(y_pred,y_test))"
   ]
  },
  {
   "cell_type": "code",
   "execution_count": 44,
   "metadata": {
    "id": "N2OznsObJrGP"
   },
   "outputs": [
    {
     "name": "stdout",
     "output_type": "stream",
     "text": [
      "0.8654804270462634\n"
     ]
    }
   ],
   "source": [
    "# Decision Tree\n",
    "model_dt = DecisionTreeClassifier()\n",
    "model_dt.fit(x_train, y_train) \n",
    "y_pred = model_dt.predict(x_test)\n",
    "\n",
    "print(metrics.accuracy_score(y_pred,y_test))"
   ]
  },
  {
   "cell_type": "code",
   "execution_count": 45,
   "metadata": {},
   "outputs": [
    {
     "name": "stdout",
     "output_type": "stream",
     "text": [
      "0.8666666666666667\n"
     ]
    }
   ],
   "source": [
    "# Random Forest\n",
    "model_rf = RandomForestClassifier()\n",
    "model_rf.fit(x_train, y_train) \n",
    "y_pred = model_rf.predict(x_test)\n",
    "\n",
    "print(metrics.accuracy_score(y_pred,y_test))"
   ]
  },
  {
   "cell_type": "code",
   "execution_count": null,
   "metadata": {},
   "outputs": [],
   "source": []
  }
 ],
 "metadata": {
  "colab": {
   "collapsed_sections": [
    "T9jD_6SeJrF3",
    "5DfCSbbmJrF4",
    "yYzD85nTJrGA",
    "piyLxzj6v07j",
    "280Vbqk-7a8M"
   ],
   "provenance": []
  },
  "kernelspec": {
   "display_name": "Python 3 (ipykernel)",
   "language": "python",
   "name": "python3"
  },
  "language_info": {
   "codemirror_mode": {
    "name": "ipython",
    "version": 3
   },
   "file_extension": ".py",
   "mimetype": "text/x-python",
   "name": "python",
   "nbconvert_exporter": "python",
   "pygments_lexer": "ipython3",
   "version": "3.11.4"
  }
 },
 "nbformat": 4,
 "nbformat_minor": 1
}
